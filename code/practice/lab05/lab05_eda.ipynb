{
 "cells": [
  {
   "metadata": {},
   "cell_type": "markdown",
   "source": "# THỰC HÀNH: PHÂN TÍCH VÀ KHÁM PHÁ DỮ LIỆU",
   "id": "93c50ff385a6e3ed"
  },
  {
   "metadata": {},
   "cell_type": "markdown",
   "source": "## 1. Thống kê mô tả.",
   "id": "62344958f0d86990"
  },
  {
   "metadata": {},
   "cell_type": "markdown",
   "source": "### Bài toán 1: Thực hiện các nhiệm vụ trong bài toán 1 để làm quen với các thao tác cần làm để khám phá dữ liệu",
   "id": "3f6b955d571bc87d"
  },
  {
   "metadata": {},
   "cell_type": "markdown",
   "source": "#### Nhiệm vụ 1: Khám phá dữ liệu COVID lấy tại https://ourworldindata.org/coronavirus",
   "id": "9568717dce174351"
  },
  {
   "metadata": {},
   "cell_type": "markdown",
   "source": "**1. Tính mean, median, mode, variance, standard deviation, range, percentile, quartile, interquartile range (IQR) sử dụng thư viện numpy và stats trên tập dữ liệu COVID.**",
   "id": "f5b683ef09af5472"
  },
  {
   "metadata": {
    "ExecuteTime": {
     "end_time": "2025-09-29T00:32:57.578514Z",
     "start_time": "2025-09-29T00:32:43.778076Z"
    }
   },
   "cell_type": "code",
   "source": [
    "# import thư viện\n",
    "import numpy as np\n",
    "import pandas as pd\n",
    "from scipy import stats\n",
    "\n",
    "# Load dữ liệu vào datataframe sử dụng hàm read_csv()\n",
    "col_name = ['iso_code', 'continent', 'location', 'date', 'total_cases', 'new_case']\n",
    "covid_data = pd.read_csv(\"../../../dataset/estimated-cumulative-excess-deaths-per-100000-people-during-covid-19.csv\", names = col_name)\n",
    "# covid_data = covid_data[['iso_code', 'continent', 'location', 'date', 'total_cases', 'new_case']]\n",
    "\n",
    "# Xem nhanh những thuộc tính cơ bản của dữ liệu\n",
    "print(covid_data.head(5))# 5 dòng đầu tiên\n",
    "print(covid_data.dtypes)# kiểu dữ liệu của từng cột\n",
    "print(covid_data.shape)# (số_dòng, số_cột)\n",
    "\n",
    "# Lấy giá trị mean (trung bình) của dữ liệu\n",
    "data_mean = np.mean(covid_data['new_case'])\n",
    "# Lấy median (trung vị) của dữ liệu\n",
    "data_median = np.median(covid_data['new_case'])\n",
    "# Lấy mode (giá trị xuất hiện nhiều nhất) của dữ liệu\n",
    "data_mode = stats.mode(covid_data['new_case'])\n",
    "# Lấy variance (phương sai) của dữ liệu\n",
    "data_variance = np.var(covid_data['new_case'])\n",
    "# Lấy standard deviation (độ lệch chuẩn) của dữ liệu\n",
    "data_sd = np.std(covid_data['new_case'])\n",
    "# Tìm giá trị max và min của dữ liệu\n",
    "data_max = np.max(covid_data['new_case'])\n",
    "data_min = np.min(covid_data['new_case'])\n",
    "# Lấy giá trị percentile (phân vị) 60% dữ liệu\n",
    "data_percentile = np.percentile(covid_data['new_case'], 60)\n",
    "# Lấy quantile (phân vị) 0.75 của dữ liệu\n",
    "data_quartile = np.quantile(covid_data['new_case'], 0.75)\n",
    "# Lấy IQR (tứ phân vị) của dữ liệu\n",
    "data_IQR = stats.iqr(covid_data['new_case'])\n",
    "\n",
    "# In các chỉ số đã lấy.\n",
    "print('Mean: ', data_mean)\n",
    "print('Median: ', data_median)\n",
    "print('Mode: ', data_mode)\n",
    "print('Variance: ', data_variance)\n",
    "print('Standard deviation: ', data_sd)\n",
    "print('Max: ', data_max)\n",
    "print('Min: ', data_min)\n",
    "print('Percentile: ', data_percentile)\n",
    "print('Quantile: ', data_quartile)\n",
    "print('IQR: ', data_IQR)"
   ],
   "id": "b7bfe2554493864e",
   "outputs": [
    {
     "name": "stdout",
     "output_type": "stream",
     "text": [
      "      iso_code   continent  location      date  total_cases  new_case\n",
      "0  Afghanistan  2020-01-01 -0.022148 -0.289158     0.420465       NaN\n",
      "1  Afghanistan  2020-01-06 -0.044295 -0.570486     0.848026       0.0\n",
      "2  Afghanistan  2020-01-13 -0.047579 -0.837293     1.281982       0.0\n",
      "3  Afghanistan  2020-01-20  0.022123 -1.125014     1.698806       0.0\n",
      "4  Afghanistan  2020-01-27  0.063374 -1.377656     2.177791       0.0\n",
      "iso_code        object\n",
      "continent       object\n",
      "location       float64\n",
      "date           float64\n",
      "total_cases    float64\n",
      "new_case       float64\n",
      "dtype: object\n",
      "(517828, 6)\n",
      "Mean:  92.15768821027115\n",
      "Median:  nan\n",
      "Mode:  ModeResult(mode=np.float64(0.0), count=np.int64(55162))\n",
      "Variance:  13914.173486073696\n",
      "Standard deviation:  117.95835488032925\n",
      "Max:  660.3648\n",
      "Min:  0.0\n",
      "Percentile:  nan\n",
      "Quantile:  nan\n",
      "IQR:  nan\n"
     ]
    }
   ],
   "execution_count": 1
  },
  {
   "metadata": {},
   "cell_type": "markdown",
   "source": [
    "#### Nhiệm vụ 2: Khám phá và xử lý dữ liệu Marketing Campaign lấy tại\n",
    "https://www.kaggle.com/datasets/imakash3011/customer-personality-analysis"
   ],
   "id": "4f968582268da3c1"
  },
  {
   "metadata": {},
   "cell_type": "markdown",
   "source": "**1. Import thư viện và nạp dữ liệu vào notebook**",
   "id": "b08941718324ceb6"
  },
  {
   "metadata": {
    "ExecuteTime": {
     "end_time": "2025-09-29T00:42:54.660316Z",
     "start_time": "2025-09-29T00:42:54.637618Z"
    }
   },
   "cell_type": "code",
   "source": [
    "# Import thư viện\n",
    "import pandas as pd\n",
    "\n",
    "# Nạp dữ liệu\n",
    "col_name = ['ID', 'Year_Birth', 'Education', 'Marital_Status', 'Income', 'Kidhome', 'Teenhome', 'Dt_Customer', 'Recency', 'NumStorePurchases', 'NumberWebVisitMonth']\n",
    "marketing_data = pd.read_csv(\"../../../dataset/marketing_campaign.csv\", names = col_name)"
   ],
   "id": "6b67aa8fb520fdd6",
   "outputs": [],
   "execution_count": 4
  },
  {
   "metadata": {},
   "cell_type": "markdown",
   "source": "**2. Loại bỏ dữ liệu trung lập**",
   "id": "bf5f6eb2f3a517f4"
  },
  {
   "metadata": {},
   "cell_type": "code",
   "outputs": [],
   "execution_count": null,
   "source": "",
   "id": "b40970a2fe036f18"
  }
 ],
 "metadata": {
  "kernelspec": {
   "display_name": "Python 3",
   "language": "python",
   "name": "python3"
  },
  "language_info": {
   "codemirror_mode": {
    "name": "ipython",
    "version": 2
   },
   "file_extension": ".py",
   "mimetype": "text/x-python",
   "name": "python",
   "nbconvert_exporter": "python",
   "pygments_lexer": "ipython2",
   "version": "2.7.6"
  }
 },
 "nbformat": 4,
 "nbformat_minor": 5
}
