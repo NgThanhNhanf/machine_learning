{
 "cells": [
  {
   "metadata": {},
   "cell_type": "markdown",
   "source": "# Kỹ thuật lập trình Python",
   "id": "a277bf83a9bfef25"
  },
  {
   "metadata": {},
   "cell_type": "markdown",
   "source": "## Làm quen với Numpy",
   "id": "2068fa502c4051cf"
  },
  {
   "metadata": {},
   "cell_type": "markdown",
   "source": "### Bài 1. Tính toán trên dãy số",
   "id": "603286544dc36c79"
  },
  {
   "metadata": {},
   "cell_type": "markdown",
   "source": "#### 1. Tạo một dãy số a có N phần tử (N = 10)",
   "id": "e32c5f53ecaf7b82"
  },
  {
   "metadata": {
    "ExecuteTime": {
     "end_time": "2025-09-18T14:32:41.527330Z",
     "start_time": "2025-09-18T14:32:41.520793Z"
    }
   },
   "cell_type": "code",
   "source": [
    "import numpy as np\n",
    "print(\"1. Tạo một dãy số a có N phần tử (N = 10)\")\n",
    "a = np.array([120, 183, 160, 175, 145, 162, 190, 160, 152, 162])\n",
    "print(\"Day so a: \", a)"
   ],
   "id": "5e2e14d1550ccb68",
   "outputs": [
    {
     "name": "stdout",
     "output_type": "stream",
     "text": [
      "1. Tạo một dãy số a có N phần tử (N = 10)\n",
      "Day so a:  [120 183 160 175 145 162 190 160 152 162]\n"
     ]
    }
   ],
   "execution_count": 3
  },
  {
   "metadata": {},
   "cell_type": "markdown",
   "source": [
    "#### 2. Các thao tác trên dãy số a\n",
    "(a) Bình phương các phần tử trong dãy số <br/>\n",
    "(b) Tìm số lượng các phần tử của dãy số <br/>\n",
    "(c) In ra giá trị lớn nhất, giá trị nhỏ nhất và giá trị trung bình <br/>\n",
    "(d) Tính phương sai của dãy số $\\sigma^2 = \\frac{\\sum{\\left(a_i - \\mu\\right)^2}}{N - 1}$ với $\\mu = \\frac{\\sum{a_i}}{N}$ và độ lệch chuẩn $var = \\sqrt{\\sigma^2}$"
   ],
   "id": "d0b450aa9b6b5f2b"
  },
  {
   "metadata": {
    "ExecuteTime": {
     "end_time": "2025-09-18T14:39:05.973433Z",
     "start_time": "2025-09-18T14:39:05.966028Z"
    }
   },
   "cell_type": "code",
   "source": [
    "print(\"2. Các thao tác tính toán đơn giản với dãy số a\")\n",
    "# Tính bình phương\n",
    "a2 = np.array([])\n",
    "for i in a:\n",
    "    a2 = np.append(a2, (i ** 2))\n",
    "\n",
    "# Lấy độ dài\n",
    "na = len(a2)\n",
    "print(\"a. Binh phuong a: \", a2.astype(int))\n",
    "print(\"\\nb. Do dai a: \", na)\n",
    "\n",
    "# Giá trị lớn nhất, giá trị nhỏ nhất và giá trị trung bình\n",
    "v_max = np.max(a)\n",
    "v_min = np.min(a)\n",
    "v_avg = np.mean(a)\n",
    "\n",
    "print(f'\\nc. Gia tri lon nhat: [{v_max}], gia tri nho nhat: [{v_min}], gia tri trung binh [{v_avg}]')\n",
    "\n",
    "# Tính phương sai và độ lệch chuẩn\n",
    "v_sigma2 = np.var(a, ddof=1)\n",
    "v_var = np.std(a, ddof=1)\n",
    "\n",
    "print(f'\\nd. Phuong sai: [{v_sigma2: .2f}] va do lech chuan: [{v_var: .2f}]')"
   ],
   "id": "948d8950eda92364",
   "outputs": [
    {
     "name": "stdout",
     "output_type": "stream",
     "text": [
      "2. Các thao tác tính toán đơn giản với dãy số a\n",
      "a. Binh phuong a:  [14400 33489 25600 30625 21025 26244 36100 25600 23104 26244]\n",
      "\n",
      "b. Do dai a:  10\n",
      "\n",
      "c. Gia tri lon nhat: [190], gia tri nho nhat: [120], gia tri trung binh [160.9]\n",
      "\n",
      "d. Phuong sai: [ 393.66] va do lech chuan: [ 19.84]\n"
     ]
    }
   ],
   "execution_count": 10
  },
  {
   "metadata": {},
   "cell_type": "markdown",
   "source": [
    "#### 3. Toán tử trên hai dãy số\n",
    "(a) Tạo dãy số x có 10 phần tử từ 1 đến 10 (dùng hàm np.arange) <br/>\n",
    "(b) Liệt kê và đếm số lượng phần tử chẵn và lẻ có trong dãy a và x <br/>\n",
    "(c) Tính khoảng cách giữa các phần tử ở vị trí lẻ của mảng a và x với $s = \\sqrt{\\sum{\\left(a_i - x_i\\right)^2}}$ với $i$ lẻ<br/>\n",
    "(d) Tìm khoảng cách nhỏ nhất giữa tập a và x. Ví dụ: min({1, 3, 5}, {2, 10, 8}} = 1"
   ],
   "id": "3544ca651669283a"
  },
  {
   "metadata": {
    "ExecuteTime": {
     "end_time": "2025-09-18T14:55:06.077252Z",
     "start_time": "2025-09-18T14:55:06.073479Z"
    }
   },
   "cell_type": "code",
   "source": [
    "print(\"3. Xử lý khác trên dãy số\")\n",
    "x = np.arange(1, 11)\n",
    "\n",
    "print(f'a. Day so x: {x}')"
   ],
   "id": "a99f4b0448b12a05",
   "outputs": [
    {
     "name": "stdout",
     "output_type": "stream",
     "text": [
      "3. Xử lý khác trên dãy số\n",
      "a. Day so x: [ 1  2  3  4  5  6  7  8  9 10]\n"
     ]
    }
   ],
   "execution_count": 25
  },
  {
   "metadata": {
    "ExecuteTime": {
     "end_time": "2025-09-18T15:00:47.780331Z",
     "start_time": "2025-09-18T15:00:47.773635Z"
    }
   },
   "cell_type": "code",
   "source": [
    "a_la_chan = (a % 2 == 0)\n",
    "a_chan = a[a % 2 == 0]\n",
    "n_a_chan = np.sum(a % 2 == 0)\n",
    "\n",
    "x_la_chan = (x % 2 == 0)\n",
    "x_chan = x[x % 2 == 0]\n",
    "n_x_chan = np.sum(x % 2 == 0)\n",
    "\n",
    "print( \"b. Cac phan tu chan trong day a, x: \")\n",
    "print(f\"+ Day a: {a}\")\n",
    "print(f\"  - Loc chan: {a_la_chan}\")\n",
    "print(f\"  - Day chua phan tu chan trong a: {a_chan}, so luong {n_a_chan} phan tu.\")\n",
    "print(f\"+ Day x: {x}\")\n",
    "print(f\"  - Loc chan: {x_la_chan}\")\n",
    "print(f\"  - Day chua phan tu chan trong a: {x_chan}, so luong {n_x_chan} phan tu.\")"
   ],
   "id": "1124156d5ebae56a",
   "outputs": [
    {
     "name": "stdout",
     "output_type": "stream",
     "text": [
      "b. Cac phan tu chan trong day a, b: \n",
      "+ Day a: [120 183 160 175 145 162 190 160 152 162]\n",
      "  - Loc chan: [ True False  True False False  True  True  True  True  True]\n",
      "  - Day chua phan tu chan trong a: [120 160 162 190 160 152 162], so luong 7 phan tu.\n",
      "+ Day x: [ 1  2  3  4  5  6  7  8  9 10]\n",
      "  - Loc chan: [False  True False  True False  True False  True False  True]\n",
      "  - Day chua phan tu chan trong a: [ 2  4  6  8 10], so luong 5 phan tu.\n"
     ]
    }
   ],
   "execution_count": 29
  },
  {
   "metadata": {
    "ExecuteTime": {
     "end_time": "2025-09-18T15:08:42.829501Z",
     "start_time": "2025-09-18T15:08:42.821822Z"
    }
   },
   "cell_type": "code",
   "source": [
    "v_le = np.arange(1, len(a), 2)\n",
    "a_le = a[v_le]\n",
    "x_le = x[v_le]\n",
    "hieu_le = a[v_le] - x[v_le]\n",
    "kc_le = np.sum(hieu_le ** 2) ** 0.5\n",
    "\n",
    "print( \"c.Tính hiệu các phần tử ở vị trí lẻ của mảng a và x: \")\n",
    "print(f\"+ Vi tri le trong a va x: {v_le}\")\n",
    "print(f\"+ Day so a: {a} va cac so o vi tri le: {a_le}\")\n",
    "print(f\"+ Day so x: {x} va cac so o vi tri le: {x_le}\")\n",
    "print(f\"+ Hieu cua a va x o vi tri le: {hieu_le}\")\n",
    "print(f\"+ Khoang cach cac phan tu cua a va x o vi tri le: {kc_le: .2f}\")"
   ],
   "id": "4ca4550605cc97b0",
   "outputs": [
    {
     "name": "stdout",
     "output_type": "stream",
     "text": [
      "c.Tính hiệu các phần tử ở vị trí lẻ của mảng a và x: \n",
      "+ Vi tri le trong a va x: [1 3 5 7 9]\n",
      "+ Day so a: [120 183 160 175 145 162 190 160 152 162] va cac so o vi tri le: [183 175 162 160 162]\n",
      "+ Day so x: [ 1  2  3  4  5  6  7  8  9 10] va cac so o vi tri le: [ 2  4  6  8 10]\n",
      "+ Hieu cua a va x o vi tri le: [181 171 156 152 152]\n",
      "+ Khoang cach cac phan tu cua a va x o vi tri le:  364.07\n"
     ]
    }
   ],
   "execution_count": 30
  },
  {
   "metadata": {
    "ExecuteTime": {
     "end_time": "2025-09-18T15:27:02.922659Z",
     "start_time": "2025-09-18T15:27:02.914904Z"
    }
   },
   "cell_type": "code",
   "source": [
    "print(\"d. Tìm khoảng cách nhỏ nhất giữa tập a và x. Ví dụ: min({1, 3, 5}, {2, 10, 8}} = 1\")\n",
    "new_x = x[:, np.newaxis]\n",
    "v_min = np.min(np.abs(new_x - a))\n",
    "\n",
    "print(f\"+ Day a: {a}\")\n",
    "print(f\"+ Day x: {x}\")\n",
    "print(f\"+ Khoang cach nho nhat: {v_min}\")"
   ],
   "id": "a747494c6153a003",
   "outputs": [
    {
     "name": "stdout",
     "output_type": "stream",
     "text": [
      "d. Tìm khoảng cách nhỏ nhất giữa tập a và x. Ví dụ: min({1, 3, 5}, {2, 10, 8}} = 1\n",
      "+ Day a: [120 183 160 175 145 162 190 160 152 162]\n",
      "+ Day x: [ 1  2  3  4  5  6  7  8  9 10]\n",
      "+ Khoang cach nho nhat: 110\n"
     ]
    }
   ],
   "execution_count": 33
  },
  {
   "metadata": {},
   "cell_type": "markdown",
   "source": [
    "#### 4. Sinh ngẫu nhiên dãy số\n",
    "(a) Sinh ngẫu nhiên dãy số có 100 phần tử theo phân bố đều với giá trị trong đoạn [1, 10] và vẽ đồ thị tần số xuất hiện <br/>\n",
    "(b) Sinh ngẫu nhiên N diem (x, y) với y là hàm phân phối chuẩn $N(\\mu = 1, \\sigma^2 = 1.0)$: <br/>\n",
    " $$\n",
    " y = f\\left(x| \\mu, \\sigma\\right) = \\frac{1}{\\sigma\\sqrt{2\\pi}}exp\\left(-\\frac{\\left(x - \\mu\\right)^2}{2\\sigma^2}\\right)\n",
    " $$\n",
    " nơi mà $x \\in [\\mu - 5\\sigma, \\mu + 5\\sigma]$ <br/>\n",
    " (c) Sinh ngẫu nhiên dãy số có 100000 phần tử theo phân bố chuẩn $N(\\mu = 1, \\sigma^2 = 1.0)$ và vẽ đồ thị tần số xuất hiện <br/> <br/>"
   ],
   "id": "3c249d527649aa33"
  },
  {
   "metadata": {
    "ExecuteTime": {
     "end_time": "2025-09-18T16:55:32.333173Z",
     "start_time": "2025-09-18T16:55:32.024918Z"
    }
   },
   "cell_type": "code",
   "source": [
    "import matplotlib.pyplot as plt\n",
    "import math\n",
    "\n",
    "a = np.random.randint(1, 10 + 1, 100)\n",
    "value, cnt = np.unique(a, return_counts = True)\n",
    "\n",
    "print(\"a. Sinh ngẫu nhiên theo phân bố đều\")\n",
    "print(f\"+ Gia tri: {value}\")\n",
    "print(f\"+ So lan xuat hien: {cnt}\")\n",
    "print(\"+ Do thi ham so xuat hien\")\n",
    "plt.figure(figsize=(6,6)) #  kich thuoc ban ve\n",
    "plt.bar(value, cnt) #  ve cac khoi chu nhat theo day x, y\n",
    "plt.xlim(0, 11) #  gioi han truc x\n",
    "plt.ylim(0, np.max(cnt) + 10) #  gioi han truc y\n",
    "plt.savefig(\"4a.png\") #  luu do thi\n",
    "plt.show() #  hien thi do thi"
   ],
   "id": "1a69a2d50f8a32e6",
   "outputs": [
    {
     "name": "stdout",
     "output_type": "stream",
     "text": [
      "a. Sinh ngẫu nhiên theo phân bố đều\n",
      "+ Gia tri: [ 1  2  3  4  5  6  7  8  9 10]\n",
      "+ So lan xuat hien: [ 9 10  9  8 12 15 12  9 11  5]\n",
      "+ Do thi ham so xuat hien\n"
     ]
    },
    {
     "data": {
      "text/plain": [
       "<Figure size 600x600 with 1 Axes>"
      ],
      "image/png": "[encoded data removed]"
     },
     "metadata": {},
     "output_type": "display_data"
    }
   ],
   "execution_count": 37
  },
  {
   "metadata": {
    "ExecuteTime": {
     "end_time": "2025-09-18T16:55:35.649203Z",
     "start_time": "2025-09-18T16:55:35.542564Z"
    }
   },
   "cell_type": "code",
   "source": [
    "mu = 1\n",
    "sigma = 1.0\n",
    "N = 1000\n",
    "x_min = mu - 5 * sigma\n",
    "x_max = mu + 5 * sigma\n",
    "\n",
    "x = np.random.rand(N) * (x_max - x_min) + x_min\n",
    "y = (1/(sigma * np.sqrt(2*math.pi))) * np.exp((-((x - mu) ** 2))/(2 * sigma))\n",
    "\n",
    "print(\"b. Sinh cặp (x, y) với y làm hàm phân phối chuẩn\")\n",
    "print(f\"+ x: {x_min} <= min [{np.min(x): .2f}] <= max [{np.max(x): .2f}] <= {x_max}\")\n",
    "print(f\"+ Ve ham so y(x)\")\n",
    "plt.figure(figsize=(6,6))      # kich thuoc ban ve\n",
    "plt.scatter(x, y)              # ve cac diem (xi, yi)\n",
    "plt.savefig(\"4b.png\")          #  luu do thi\n",
    "plt.show()                     #  hien thi do thi"
   ],
   "id": "58771d6b4c45ff11",
   "outputs": [
    {
     "name": "stdout",
     "output_type": "stream",
     "text": [
      "b. Sinh cặp (x, y) với y làm hàm phân phối chuẩn\n",
      "+ x: -4.0 <= min [-3.97] <= max [ 6.00] <= 6.0\n",
      "+ Ve ham so y(x)\n"
     ]
    },
    {
     "data": {
      "text/plain": [
       "<Figure size 600x600 with 1 Axes>"
      ],
      "image/png": "[encoded data removed]"
     },
     "metadata": {},
     "output_type": "display_data"
    }
   ],
   "execution_count": 38
  },
  {
   "metadata": {
    "ExecuteTime": {
     "end_time": "2025-09-18T17:36:38.700287Z",
     "start_time": "2025-09-18T17:36:38.650352Z"
    }
   },
   "cell_type": "code",
   "source": [
    "\"\"\" CÁC BẠN LÀM BÀI Ở ĐÂY \"\"\"\n",
    "# Sử dụng hàm np.random.randn() sinh phân phối chuẩn N(0,1) --> N(m,s^2) = m + N(0,1) * s\n",
    "# Sử dụng hàm np.histogram với density=True để thống kê số lần xuất hiện với số bins = 300 (do dãy số thực)\n",
    "# ...\n",
    "\n",
    "N = 100000\n",
    "x = 1 + np.random.randn(N) * 1\n",
    "cnt, val = np.histogram(x, density = True, bins = 300)\n",
    "\n",
    "print( \"c. Sinh day so theo phan phoi chuan\")\n",
    "print(f\"+ x: len = {len(x)}, min [{np.min(x)}], max [{np.max(x)}]\")\n",
    "print(f\"+ Mat so xac suat cua day so x\")\n",
    "plt.figure(figsize=(6,6))      # kich thuoc ban ve\n",
    "plt.xlim(np.min(val), np.max(val))\n",
    "plt.scatter(val[:-1], cnt)\n",
    "plt.show()"
   ],
   "id": "c23b71629827e6e8",
   "outputs": [
    {
     "name": "stdout",
     "output_type": "stream",
     "text": [
      "c. Sinh day so theo phan phoi chuan\n",
      "+ x: len = 100000, min [-3.5751501183113117], max [5.433045571158272]\n",
      "+ Mat so xac suat cua day so x\n"
     ]
    },
    {
     "data": {
      "text/plain": [
       "<Figure size 600x600 with 1 Axes>"
      ],
      "image/png": "[encoded data removed]"
     },
     "metadata": {},
     "output_type": "display_data"
    }
   ],
   "execution_count": 56
  },
  {
   "metadata": {},
   "cell_type": "markdown",
   "source": "### Bài 2. Tính toán trên ma trận",
   "id": "4e40b2fc814705d2"
  },
  {
   "metadata": {},
   "cell_type": "markdown",
   "source": "#### 1. Tạo ma trận a có M = 6 dòng, N = 4 cột",
   "id": "31d5a4aee5faeaf6"
  },
  {
   "metadata": {
    "ExecuteTime": {
     "end_time": "2025-09-18T17:43:20.645057Z",
     "start_time": "2025-09-18T17:43:20.642030Z"
    }
   },
   "cell_type": "code",
   "source": [
    "a = np.random.randint(100, 200, (6, 4))\n",
    "\n",
    "print(\"Ma trận a: \\n\", a)"
   ],
   "id": "644e34d9ba5419c8",
   "outputs": [
    {
     "name": "stdout",
     "output_type": "stream",
     "text": [
      "Ma trận a: \n",
      " [[188 133 158 196]\n",
      " [184 188 121 114]\n",
      " [115 148 108 117]\n",
      " [104 184 155 179]\n",
      " [166 121 166 177]\n",
      " [139 139 139 127]]\n"
     ]
    }
   ],
   "execution_count": 60
  },
  {
   "metadata": {},
   "cell_type": "markdown",
   "source": [
    "#### 2. Các thao tác trên ma trận a\n",
    "(a) In ra ma trận chuyển vị <br/>\n",
    "(b) In ra phần tử ở vị trí dòng 2 cột 3 <br/>\n",
    "(c) Trích xuất dòng đầu, dòng cuối, dòng 2 <br/>\n",
    "(d) Trích xuất cột kế cuối, cột đầu <br/>\n",
    "(e) Đảo các giá trị trên từng cột <br/>\n",
    "(f) Tính tổng các dòng, trung bình các cột <br/>"
   ],
   "id": "f0832a1dcf037c67"
  },
  {
   "metadata": {
    "ExecuteTime": {
     "end_time": "2025-09-18T17:57:45.095306Z",
     "start_time": "2025-09-18T17:57:45.085990Z"
    }
   },
   "cell_type": "code",
   "source": [
    "a_t = a.transpose()\n",
    "v_23 = a[1][2]\n",
    "d_0 = a[0]\n",
    "d_last = a[-1]\n",
    "d_2 = a[1]\n",
    "c_l1 = a[:,-2]\n",
    "c_0 = a[:, 0]\n",
    "dao_cot = np.flipud(a)\n",
    "tong_dong = a.sum(axis = 1)\n",
    "tb_cot = a.mean(axis = 0)\n",
    "\n",
    "print(f\"a. In ra ma trận chuyển vị: \\n{a_t}\")\n",
    "print(f\"\\nb. In ra phần tử ở vị trí dòng 2 cột 3: {v_23}\")\n",
    "print(f\"\\nc. Trích xuất các dòng: \")\n",
    "print(f\"   + Dòng đầu : {d_0}\")\n",
    "print(f\"   + Dòng cuối: {d_last}\")\n",
    "print(f\"   + Dòng hai : {d_2}\")\n",
    "print(f\"\\nd. Trích xuất các cột: \")\n",
    "print(f\"   + Cột kế cuối: {c_l1}\")\n",
    "print(f\"   + Cột đầu: {c_0}\")\n",
    "print(f\"\\ne. Đảo các giá trị trên từng cột: \\n {dao_cot}\")\n",
    "print(f\"\\nf. Phép tính theo trục:\")\n",
    "print(f\"   + Tổng dòng: {tong_dong}\")\n",
    "print(f\"   + Trung bình cột: {tb_cot}\")"
   ],
   "id": "9ac2932700e778f8",
   "outputs": [
    {
     "name": "stdout",
     "output_type": "stream",
     "text": [
      "a. In ra ma trận chuyển vị: \n",
      "[[188 184 115 104 166 139]\n",
      " [133 188 148 184 121 139]\n",
      " [158 121 108 155 166 139]\n",
      " [196 114 117 179 177 127]]\n",
      "\n",
      "b. In ra phần tử ở vị trí dòng 2 cột 3: 121\n",
      "\n",
      "c. Trích xuất các dòng: \n",
      "   + Dòng đầu : [188 133 158 196]\n",
      "   + Dòng cuối: [139 139 139 127]\n",
      "   + Dòng hai : [184 188 121 114]\n",
      "\n",
      "d. Trích xuất các cột: \n",
      "   + Cột kế cuối: [158 121 108 155 166 139]\n",
      "   + Cột đầu: [188 184 115 104 166 139]\n",
      "\n",
      "e. Đảo các giá trị trên từng cột: \n",
      " [[139 139 139 127]\n",
      " [166 121 166 177]\n",
      " [104 184 155 179]\n",
      " [115 148 108 117]\n",
      " [184 188 121 114]\n",
      " [188 133 158 196]]\n",
      "\n",
      "f. Phép tính theo trục:\n",
      "   + Tổng dòng: [675 607 488 622 630 544]\n",
      "   + Trung bình cột: [149.33333333 152.16666667 141.16666667 151.66666667]\n"
     ]
    }
   ],
   "execution_count": 72
  },
  {
   "metadata": {},
   "cell_type": "markdown",
   "source": [
    "#### 3. Các toán tử trên hai ma trận\n",
    "(a) Tạo hai ma trận A và B có 4 dòng x 3 cột và X có 3 dòng x 4 cột <br/>\n",
    "(b) Tính tổng, hiệu, tích của từng phần tử trên hai ma trận A và B <br/>\n",
    "(c) Tính phép nhân ma trận Y = A x X"
   ],
   "id": "41c502812398b34b"
  },
  {
   "metadata": {
    "ExecuteTime": {
     "end_time": "2025-09-18T18:16:26.546347Z",
     "start_time": "2025-09-18T18:16:26.534061Z"
    }
   },
   "cell_type": "code",
   "source": [
    "A = np.random.randint(1, 5, (4, 3))\n",
    "B = np.random.randint(1, 5, (4, 3))\n",
    "X = np.random.randint(1, 5, (3, 4))\n",
    "\n",
    "AB_add = A + B\n",
    "AB_sub = A - B\n",
    "AB_mul = A * B\n",
    "Y = np.dot(A, X)\n",
    "\n",
    "print(\"a. Tạo hai ma trận A và B có 4 dòng x 3 cột và X có 3 dòng x 4 cột\")\n",
    "print(f\"+ Ma tran A: \\n{A}\")\n",
    "print(f\"+ Ma tran B: \\n{B}\")\n",
    "print(f\"+ Ma tran X: \\n{X}\")\n",
    "\n",
    "print(\"\\nb. Tính tổng, hiệu, tích của từng phần tử trên hai ma trận A và B\")\n",
    "print(f\"A + B = \\n{AB_add}\")\n",
    "print(f\"A - B = \\n{AB_sub}\")\n",
    "print(f\"A . B = \\n{AB_mul}\")\n",
    "\n",
    "print(\"\\nc. Tính phép nhân ma trận Y = A x X\")\n",
    "print(f\"Y = A x X --> shape A ({A.shape}) x shape X ({X.shape}) = shape Y ({Y.shape}) \\n{Y}\")"
   ],
   "id": "b662093d852eab75",
   "outputs": [
    {
     "name": "stdout",
     "output_type": "stream",
     "text": [
      "a. Tạo hai ma trận A và B có 4 dòng x 3 cột và X có 3 dòng x 4 cột\n",
      "+ Ma tran A: \n",
      "[[1 2 4]\n",
      " [2 2 2]\n",
      " [1 2 3]\n",
      " [4 4 1]]\n",
      "+ Ma tran B: \n",
      "[[3 1 3]\n",
      " [2 4 1]\n",
      " [3 3 2]\n",
      " [4 3 3]]\n",
      "+ Ma tran X: \n",
      "[[4 3 2 1]\n",
      " [1 2 4 4]\n",
      " [3 4 4 2]]\n",
      "\n",
      "b. Tính tổng, hiệu, tích của từng phần tử trên hai ma trận A và B\n",
      "A + B = \n",
      "[[4 3 7]\n",
      " [4 6 3]\n",
      " [4 5 5]\n",
      " [8 7 4]]\n",
      "A - B = \n",
      "[[-2  1  1]\n",
      " [ 0 -2  1]\n",
      " [-2 -1  1]\n",
      " [ 0  1 -2]]\n",
      "A . B = \n",
      "[[ 3  2 12]\n",
      " [ 4  8  2]\n",
      " [ 3  6  6]\n",
      " [16 12  3]]\n",
      "\n",
      "c. Tính phép nhân ma trận Y = A x X\n",
      "Y = A x X --> shape A ((4, 3)) x shape X ((3, 4)) = shape Y ((4, 4)) \n",
      "[[18 23 26 17]\n",
      " [16 18 20 14]\n",
      " [15 19 22 15]\n",
      " [23 24 28 22]]\n"
     ]
    }
   ],
   "execution_count": 73
  },
  {
   "metadata": {},
   "cell_type": "markdown",
   "source": [
    "#### 4. Giải hệ phương trình tuyến tính\n",
    "Giải hệ phương trình tuyến tính sau:\n",
    "$$\n",
    "\\left\\{\\begin{matrix}\n",
    "        4x_1  + 3x_2 - 5x_3 = 2 \\\\\n",
    "        -2x_1 - 4x_2 + 5x_3 = 5 \\\\\n",
    "        8x_1 + 8x_2 = -3 \\\\\n",
    "\\end{matrix}\\right.\n",
    "$$"
   ],
   "id": "db3eb2f91dab40fb"
  },
  {
   "metadata": {
    "ExecuteTime": {
     "end_time": "2025-09-18T18:22:22.409437Z",
     "start_time": "2025-09-18T18:22:22.398619Z"
    }
   },
   "cell_type": "code",
   "source": [
    "A = np.array([[4, 3, -5],\n",
    "              [-2, -4, 5],\n",
    "              [8, 8, 0]])\n",
    "y = np.array([2, 5, -3])\n",
    "x = np.linalg.solve(A, y)\n",
    "yy = np.dot(A, x)\n",
    "diff = np.linalg.norm(yy - y)\n",
    "\n",
    "print(f\"+ Ma tran A: \\n{A}\")\n",
    "print(f\"+ Vector y: {y}\")\n",
    "print(f\"+ Nghiem x: {x}\")\n",
    "print(f\"+ Kiem tra: yy = Ax = {yy} ==> ||yy -y ||_2 = {diff: .2f}\")"
   ],
   "id": "bd2031633058862e",
   "outputs": [
    {
     "name": "stdout",
     "output_type": "stream",
     "text": [
      "+ Ma tran A: \n",
      "[[ 4  3 -5]\n",
      " [-2 -4  5]\n",
      " [ 8  8  0]]\n",
      "+ Vector y: [ 2  5 -3]\n",
      "+ Nghiem x: [ 2.20833333 -2.58333333 -0.18333333]\n",
      "+ Kiem tra: yy = Ax = [ 2.  5. -3.] ==> ||yy -y ||_2 =  0.00\n"
     ]
    }
   ],
   "execution_count": 75
  },
  {
   "metadata": {},
   "cell_type": "markdown",
   "source": "## Bài tập áp dụng",
   "id": "fbd2d0430f1769f3"
  },
  {
   "metadata": {},
   "cell_type": "markdown",
   "source": [
    "### Bài 3. Tính gần đúng số pi dùng phương pháp Monte Carlo\n",
    "\n",
    "Vẽ một đường tròn $C$ có bán kính $r$ nội tiếp một hình vuông $C$, và đặt ngẫu nhiên $N$ chấm lên hình vuông. Tỉ lệ các chấm nằm trong hình tròn trên tổng số chấm xấp xỉ bằng diện tích của hình tròn chia cho hình vuông như sau:\n",
    "$$\n",
    "\\frac{N_C}{N} \\approx  \\frac{\\mathbb{S}_C}{\\mathbb{S}_N}\n",
    "$$\n",
    "nơi mà $N_C$ là các chấm trong hình tròn, $N$ là tổng số chấm, $\\mathbb{S}_C$ và $\\mathbb{S}_N$ lần lượt là diện tích của hình tròn và hình vuông.\n",
    "$$ \\mathbb{S}_C = \\pi * r^2 $$\n",
    "$$ \\mathbb{S}_N = (2*r)^2 = 4r^2 $$\n",
    "Do đó, công thức trên trở thành:\n",
    "$$\n",
    "\\frac{N_C}{N} \\approx \\frac{\\pi * r^2}{4r^2} = \\frac{\\pi}{4}\n",
    "$$\n",
    "Suy ra, ta có giá trị số $\\pi$ được tính như sau:\n",
    "$$\n",
    "\\pi \\approx \\frac{4N_C}{N}\n",
    "$$\n",
    "\n",
    "Các bạn hãy lập trình tính sấp xỉ số $\\pi$ dùng phương pháp Monte Carlo. Cho biết các sai số với $N = 100$, $N = 10000$, và $N = 1000000$. Vẽ đồ thị minh họa cho chương trình.\n",
    "\n",
    "**Hướng dẫn**: Viết chương trình phát sinh $N$ điểm $(x_i, y_i)$ với $x_i, y_i \\in [-1, -1]$. $(x_i, y_i)$ thuộc hình tròn tâm $(0, 0)$ bán kính 1 nội tiếp hình vuông có tâm tại $(0, 0)$ độ dài cạnh 2 khi và chỉ khi $x_i^2 + y_i^2 <= 1$."
   ],
   "id": "d2b5e38e7a03ecd6"
  },
  {
   "metadata": {
    "ExecuteTime": {
     "end_time": "2025-09-18T18:25:40.368382Z",
     "start_time": "2025-09-18T18:25:40.213806Z"
    }
   },
   "cell_type": "code",
   "source": [
    "import matplotlib.pyplot as plt # khai báo thư viện vẽ pyplot\n",
    "import math\n",
    "\n",
    "circle = plt.Circle((0, 0), 1, color='g') # tạo đối tượng vòng tròn\n",
    "\n",
    "fig, ax = plt.subplots(figsize=(6, 6)) # lấy figure và vùng vẽ\n",
    "\n",
    "plt.plot(0, 0, 'o', color=(0.9, 0.9, 1.0), alpha=0.8) # vẽ điểm tại tâm (0,0)\n",
    "ax.add_patch(circle) # thêm vòng tròn vào vùng vẽ\n",
    "\n",
    "x = 0.75; y = math.sqrt(1 - (x ** 2)) # (x = 0.75, y = căn bậc 2 của 1 - x^2)\n",
    "plt.arrow(0, 0, x, y)\n",
    "\n",
    "plt.xlim(-1, 1) # giới hạn trục x\n",
    "plt.ylim(-1, 1) # giới hạn trục y\n",
    "\n",
    "plt.savefig('pi.png') # lưu đồ thị xuống tập tin\n",
    "plt.show()            # hiển thị đồ thị"
   ],
   "id": "30fc3c5d3e7ebb0c",
   "outputs": [
    {
     "data": {
      "text/plain": [
       "<Figure size 600x600 with 1 Axes>"
      ],
      "image/png": "[encoded data removed]"
     },
     "metadata": {},
     "output_type": "display_data"
    }
   ],
   "execution_count": 76
  },
  {
   "metadata": {
    "ExecuteTime": {
     "end_time": "2025-09-18T19:00:23.236062Z",
     "start_time": "2025-09-18T19:00:23.203589Z"
    }
   },
   "cell_type": "code",
   "source": [
    "import numpy as np\n",
    "\n",
    "def calc_pi_monte_carlo(n = 100):\n",
    "    pi = 0\n",
    "    x = np.random.rand(n)\n",
    "    y = np.random.rand(n)\n",
    "    nc = np.sum(x ** 2 + y ** 2 <= 1)\n",
    "    pi = (4 * nc)/n\n",
    "\n",
    "    return pi"
   ],
   "id": "1cf584406ec564ca",
   "outputs": [],
   "execution_count": 77
  },
  {
   "metadata": {
    "ExecuteTime": {
     "end_time": "2025-09-18T19:00:24.331992Z",
     "start_time": "2025-09-18T19:00:24.267192Z"
    }
   },
   "cell_type": "code",
   "source": [
    "import math\n",
    "\n",
    "print(\"epsilon(n=100): \", calc_pi_monte_carlo(n = 100) - math.pi)\n",
    "print(\"epsilon(n=100): \", calc_pi_monte_carlo(n = 100) - math.pi)\n",
    "print(\"epsilon(n=10000): \", calc_pi_monte_carlo(n = 10000) - math.pi)\n",
    "print(\"epsilon(n=10000): \", calc_pi_monte_carlo(n = 10000) - math.pi)\n",
    "print(\"epsilon(n=1000000): \", calc_pi_monte_carlo(n = 1000000) - math.pi)\n",
    "print(\"epsilon(n=1000000): \", calc_pi_monte_carlo(n = 1000000) - math.pi)"
   ],
   "id": "572d7f27922a1116",
   "outputs": [
    {
     "name": "stdout",
     "output_type": "stream",
     "text": [
      "epsilon(n=100):  0.17840734641020672\n",
      "epsilon(n=100):  -0.061592653589793045\n",
      "epsilon(n=10000):  0.008407346410206795\n",
      "epsilon(n=10000):  0.017207346410206714\n",
      "epsilon(n=1000000):  -0.0022486535897932036\n",
      "epsilon(n=1000000):  0.00159934641020687\n"
     ]
    }
   ],
   "execution_count": 78
  }
 ],
 "metadata": {
  "kernelspec": {
   "display_name": "Python 3",
   "language": "python",
   "name": "python3"
  },
  "language_info": {
   "codemirror_mode": {
    "name": "ipython",
    "version": 2
   },
   "file_extension": ".py",
   "mimetype": "text/x-python",
   "name": "python",
   "nbconvert_exporter": "python",
   "pygments_lexer": "ipython2",
   "version": "2.7.6"
  }
 },
 "nbformat": 4,
 "nbformat_minor": 5
}
