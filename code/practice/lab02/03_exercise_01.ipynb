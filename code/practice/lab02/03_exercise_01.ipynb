{
 "cells": [
  {
   "metadata": {},
   "cell_type": "markdown",
   "source": "# Cơ bản về ngôn ngữ lập trình python",
   "id": "7e0b94238efc6a7b"
  },
  {
   "metadata": {},
   "cell_type": "markdown",
   "source": "## 1. Nhập/xuất biểu thức tính toán",
   "id": "93af21e47124809b"
  },
  {
   "metadata": {},
   "cell_type": "markdown",
   "source": [
    "### Bài 1. Tính giá trị hàm số\n",
    "**Yêu cầu**: Hãy viết chương trình nhập vào số thực x và tính giá trị biểu thức:\n",
    "$$\n",
    "    f\\left(x\\right) = x + \\frac{x^5}{5!} + \\frac{\\sqrt{|x|}}{x^{3/2}}\n",
    "$$\n",
    "> Moi ban nhap vao gia tri cua bien so x: **2.3** <br/>\n",
    "> Gia tri cua ham so f(**2.3**) = **3.27**."
   ],
   "id": "7cca3afae1bb0826"
  },
  {
   "metadata": {
    "ExecuteTime": {
     "end_time": "2025-09-18T10:34:34.100727Z",
     "start_time": "2025-09-18T10:34:27.663422Z"
    }
   },
   "cell_type": "code",
   "source": [
    "# Khai báo thư viện\n",
    "import math\n",
    "\n",
    "# Nhập dữ liệu\n",
    "x = float(input(\"Moi ban nhap vao gia tri cua bien so x: \"))\n",
    "\n",
    "# Xử lý\n",
    "f_x = x + (x ** 5.0) / (math.factorial(5)) + (abs(x) ** 0.5) / (x ** (3.0/2.0))\n",
    "#\n",
    "\n",
    "# Xuất dữ liệu\n",
    "print(f\"Gia tri cua ham so f({x}) = {f_x:.2f}\")"
   ],
   "id": "134ac72f26d6d761",
   "outputs": [
    {
     "name": "stdout",
     "output_type": "stream",
     "text": [
      "Gia tri cua ham so f(5.0) = 31.24\n"
     ]
    }
   ],
   "execution_count": 1
  },
  {
   "metadata": {},
   "cell_type": "markdown",
   "source": [
    "### Bài 2. Đổi sang giờ phút giây\n",
    "Một thiết bị hoạt động được t giây. Hãy viết chương trình chuyển số giây đó dưới dạng số giờ, số phút và số giây.\n",
    ">Nhap vao tong so giay: **4810** <br/>\n",
    ">**4810** giay co dang **1:20:10**"
   ],
   "id": "6093367e87ba535a"
  },
  {
   "metadata": {
    "ExecuteTime": {
     "end_time": "2025-09-15T17:54:01.026520Z",
     "start_time": "2025-09-15T17:53:57.285248Z"
    }
   },
   "cell_type": "code",
   "source": [
    "# Nhập dữ liệu\n",
    "t = int(input(\"Nhap vao tong so giay: \"))\n",
    "\n",
    "# Xử lý\n",
    "ss = t\n",
    "hh = int(t / 3600)\n",
    "ss %= 3600\n",
    "mm = int(t / 60)\n",
    "ss %= 60\n",
    "#\n",
    "\n",
    "# Xuất dữ liệu\n",
    "print(f\"{t} giay co dang {hh}:{mm}:{ss}\")"
   ],
   "id": "d799411080ad0a1a",
   "outputs": [
    {
     "name": "stdout",
     "output_type": "stream",
     "text": [
      "4810 giay co dang 1:80:10\n"
     ]
    }
   ],
   "execution_count": 9
  },
  {
   "metadata": {},
   "cell_type": "markdown",
   "source": "## Cấu trúc lựa chọn",
   "id": "bdd179db67279b49"
  },
  {
   "metadata": {},
   "cell_type": "markdown",
   "source": [
    "### Bài 3. Giải phuơng trình bậc 1\n",
    "Nhập 2 số thực $a$, $b$. Tìm nghiệm của phương trình bậc 1 $ax + b = 0$.\n",
    ">Moi ban nhap he so a: **1** <br/>\n",
    ">Moi ban nhap he so b: **5** <br/>\n",
    ">Phuong trinh **1x + 5 = 0** co **1** nghiem x = **-5.00**."
   ],
   "id": "9beeea74d77d1ad7"
  },
  {
   "metadata": {
    "ExecuteTime": {
     "end_time": "2025-09-18T11:28:03.615099Z",
     "start_time": "2025-09-18T11:27:58.294680Z"
    }
   },
   "cell_type": "code",
   "source": [
    "# Nhập dữ liệu\n",
    "a = int(input(\"Moi ban nhap he so a: \"))\n",
    "b = int(input(\"Moi ban nhap he so b: \"))\n",
    "# Xử lý\n",
    "flag = 1\n",
    "x = 0\n",
    "if a == 0:\n",
    "    if b == 0:\n",
    "        flag = -1\n",
    "    else:\n",
    "        flag = 0\n",
    "else:\n",
    "    x = (-b)/a\n",
    "#\n",
    "\n",
    "# Xuat du lieu\n",
    "s = f\"Phuong trinh {a}x + {b} = 0\"\n",
    "if flag == -1:\n",
    "    print(f\"{s} vo so nghiem.\")\n",
    "elif flag == 0:\n",
    "    print(f\"{s} vo nghiem.\")\n",
    "else:\n",
    "    print(f\"{s} co 1 nghiem x = {x:.2f}.\")\n"
   ],
   "id": "71cb2258cb9ca10d",
   "outputs": [
    {
     "name": "stdout",
     "output_type": "stream",
     "text": [
      "Phuong trinh 1x + 5 = 0 co 1 nghiem x = -5.00.\n"
     ]
    }
   ],
   "execution_count": 3
  },
  {
   "metadata": {},
   "cell_type": "markdown",
   "source": [
    "### Bài 4. Chuyển ký số sang số\n",
    "Nhập một chuỗi s là chuỗi biểu diễn ký tự số trong tiếng Anh gồm {zero, one, two, three, four, five, six, seven, eight, nine}. Hãy kiểm tra chuỗi nhập có hợp lệ không? Nếu hợp lệ thì in ra ký số của chuỗi đó và chuỗi ký số bên tiếng việt tương ứng.\n",
    "> Moi ban nhap chuoi ky so s: One <br/>\n",
    "> Chuoi vua nhap hop le!\n",
    "> \"One\" bieu dien so cho \"1\" va ung voi tieng Viet \"mot\".\n",
    "\n",
    "> Moi ban nhap chuoi ky so s: hello <br/>\n",
    "> Chuoi vua nhap khong hop le!"
   ],
   "id": "eb9bf4dcb8ca0b3e"
  },
  {
   "metadata": {
    "ExecuteTime": {
     "end_time": "2025-09-18T11:53:51.348089Z",
     "start_time": "2025-09-18T11:53:48.392781Z"
    }
   },
   "cell_type": "code",
   "source": [
    "s = input(\"Moi ban nhap chuoi ky so s: \")\n",
    "\n",
    "en = [\"zero\", \"one\", \"two\", \"three\", \"four\", \"five\", \"six\", \"seven\", \"eight\", \"nine\"]\n",
    "vi = [\"khong\", \"mot\", \"hai\", \"ba\", \"bon\", \"nam\", \"sau\", \"bay\", \"tam\", \"chin\"]\n",
    "num = [0, 1, 2, 3, 4, 5, 6, 7, 8, 9]\n",
    "s_lower = s.lower()\n",
    "pos = -1\n",
    "if s_lower == \"zero\":\n",
    "    pos = 0\n",
    "elif s_lower == \"one\":\n",
    "    pos = 1\n",
    "elif s_lower == \"two\":\n",
    "    pos = 2\n",
    "elif s_lower == \"three\":\n",
    "    pos = 3\n",
    "elif s_lower == \"four\":\n",
    "    pos = 4\n",
    "elif s_lower == \"five\":\n",
    "    pos = 5\n",
    "elif s_lower == \"six\":\n",
    "    pos = 6\n",
    "elif s_lower == \"seven\":\n",
    "    pos = 7\n",
    "elif s_lower == \"eight\":\n",
    "    pos = 8\n",
    "elif s_lower == \"nine\":\n",
    "    pos = 9\n",
    "\n",
    "if pos == -1:\n",
    "    print(\"Chuoi vua nhap khong hop le!\")\n",
    "else:\n",
    "    print(f\"Chuoi vua nhap hop le!\")\n",
    "    print(f\"\\\"{s}\\\" bieu dien so cho \\\"{num[pos]}\\\" va ung voi tieng Viet \\\"{vi[pos]}\\\".\")"
   ],
   "id": "7fb400da0b83291b",
   "outputs": [
    {
     "name": "stdout",
     "output_type": "stream",
     "text": [
      "Chuoi vua nhap khong hop le!\n"
     ]
    }
   ],
   "execution_count": 11
  },
  {
   "metadata": {},
   "cell_type": "markdown",
   "source": "## 3. Cấu trúc lập",
   "id": "d2fade88431edc"
  },
  {
   "metadata": {},
   "cell_type": "markdown",
   "source": [
    "### Bài 5. Tính tổng các số chẵn\n",
    "Nhập một số nguyên n. Hãy tính tổng các số chẵn từ 1 đến n.\n",
    "> Moi ban nhap so nguyen n: **100** <br>\n",
    "> Tong cac so chan tu 1 den **100** la **2550**.\n"
   ],
   "id": "56d64357eeba3cd2"
  },
  {
   "metadata": {
    "ExecuteTime": {
     "end_time": "2025-09-18T11:58:51.823097Z",
     "start_time": "2025-09-18T11:58:49.099401Z"
    }
   },
   "cell_type": "code",
   "source": [
    "    # Nhập dữ liệu\n",
    "n = int(input(\"Moi ban nhap so nguyen n: \"))\n",
    "\n",
    "# Xử lý\n",
    "s = 0\n",
    "for i in range(1, n + 1):\n",
    "    if i % 2 == 0:\n",
    "        s += i\n",
    "#\n",
    "\n",
    "# Xuất dữ liệu\n",
    "print(f\"Tong cac so chan tu 1 den {n} la {s}.\")"
   ],
   "id": "97e2576985a48f76",
   "outputs": [
    {
     "name": "stdout",
     "output_type": "stream",
     "text": [
      "Tong cac so chan tu 1 den 100 la 2550.\n"
     ]
    }
   ],
   "execution_count": 13
  },
  {
   "metadata": {},
   "cell_type": "markdown",
   "source": [
    "### Bài 6. Kiểm tra số nguyên tố\n",
    "Nhập vào một số nguyên dương n. Hãy kiểm tra xem n có phải số nguyên tố không?\n",
    "> Moi ban nhap so nguyen n: **10** </br>\n",
    "> **10** khong phai la so nguyen to.\n",
    "\n",
    "> Moi ban nhap so nguyen n: **97** </br>\n",
    "> **97** la so nguyen to."
   ],
   "id": "62d38767946b4b70"
  },
  {
   "metadata": {
    "ExecuteTime": {
     "end_time": "2025-09-18T12:18:10.970648Z",
     "start_time": "2025-09-18T12:18:07.752095Z"
    }
   },
   "cell_type": "code",
   "source": [
    "# Nhập dữ liệu\n",
    "n = int(input(\"Moi ban nhap so nguyen n: \"))\n",
    "\n",
    "# Xử lý\n",
    "lant = True\n",
    "if (n < 2):\n",
    "    lant = False\n",
    "else:\n",
    "    for i in range(2, int(n ** 0.5) + 1):\n",
    "        if n % i == 0:\n",
    "            lant = False\n",
    "            break\n",
    "#\n",
    "\n",
    "# Xuất dữ liệu\n",
    "if lant == True:\n",
    "    print(f\"{n} la so nguyen to.\")\n",
    "else:\n",
    "    print(f\"{n} khong phai la so nguyen to.\")"
   ],
   "id": "cf2ae0f6435bb82a",
   "outputs": [
    {
     "name": "stdout",
     "output_type": "stream",
     "text": [
      "97 la so nguyen to.\n"
     ]
    }
   ],
   "execution_count": 18
  },
  {
   "metadata": {},
   "cell_type": "markdown",
   "source": "## 4. Xử lý ngoại lệ và hàm số",
   "id": "a89001a57e00e8c7"
  },
  {
   "metadata": {},
   "cell_type": "markdown",
   "source": [
    "## Bài 7. Giải phương trình bậc 2\n",
    "Nhập 3 số thực a, b, c (có kiểm tra dữ liệu nhập số thực). Hãy xây dựng hàm giải phương trình bậc 2 $ax^2+bx+c=0$ và in kết quả giải ra màn hình.\n",
    "> Moi ban nhap he so a, b, c:  **a b c**<br/>\n",
    "> Ban nhap sai! Moi ban nhap lai!<br/>\n",
    "> Moi ban nhap he so a, b, c:  **1 a 3**<br/>\n",
    "> Ban nhap sai! Moi ban nhap lai!<br/>\n",
    "> Moi ban nhap he so a, b, c: **1 5 6**<br/>\n",
    "> Phuong trinh bac 2 **1x^2 + 5x + 6 = 0** co **2**  nghiem x1 = **-2.00**, x2 = **-3.00**."
   ],
   "id": "a87b8a9b874adb6d"
  },
  {
   "metadata": {
    "ExecuteTime": {
     "end_time": "2025-09-18T12:34:07.697115Z",
     "start_time": "2025-09-18T12:34:07.681630Z"
    }
   },
   "cell_type": "code",
   "source": [
    "def NhapDuLieu():\n",
    "    try:\n",
    "        (a, b, c) = map(int, input(\"Moi ban nhap he so a, b, c:\").split())\n",
    "    except ValueError:\n",
    "        print(\"Ban nhap sai! Moi ban nhap lai!\")\n",
    "        return NhapDuLieu()\n",
    "    return a, b, c"
   ],
   "id": "963e48d1f21f45ad",
   "outputs": [],
   "execution_count": 20
  },
  {
   "metadata": {
    "ExecuteTime": {
     "end_time": "2025-09-18T12:34:19.478035Z",
     "start_time": "2025-09-18T12:34:09.502637Z"
    }
   },
   "cell_type": "code",
   "source": [
    "# Kiểm tra hàm\n",
    "a, b, c = NhapDuLieu()"
   ],
   "id": "a78682979a0ea0a3",
   "outputs": [
    {
     "name": "stdout",
     "output_type": "stream",
     "text": [
      "Ban nhap sai! Moi ban nhap lai!\n"
     ]
    }
   ],
   "execution_count": 21
  },
  {
   "metadata": {
    "ExecuteTime": {
     "end_time": "2025-09-18T12:47:58.914303Z",
     "start_time": "2025-09-18T12:47:58.903593Z"
    }
   },
   "cell_type": "code",
   "source": [
    "def GiaiPhuongTrinhBac2(a, b, c):\n",
    "    import math\n",
    "    flag = None\n",
    "    x = ()\n",
    "\n",
    "    if a == 0 and b == 0 and c == 0:\n",
    "        flag = -1\n",
    "        return flag, x\n",
    "\n",
    "    if a == 0 and b == 0:\n",
    "        flag = 0\n",
    "        return flag, x\n",
    "\n",
    "    if a == 0:\n",
    "        flag = 1\n",
    "        x = ((-c)/b)\n",
    "        return flag, x\n",
    "\n",
    "\n",
    "    delta = b * b - 4 * a * c\n",
    "    if delta < 0:\n",
    "        flag = 0\n",
    "    elif delta == 0:\n",
    "        flag = 1\n",
    "        x = ((-b)/(2 * a))\n",
    "    else:\n",
    "        flag = 2\n",
    "        x = ((-b + delta**0.5)/(2 * a), (-b - delta**0.5)/(2 * a))\n",
    "\n",
    "    return flag, x"
   ],
   "id": "df38ee2c108326b7",
   "outputs": [],
   "execution_count": 26
  },
  {
   "metadata": {
    "ExecuteTime": {
     "end_time": "2025-09-18T12:48:00.537831Z",
     "start_time": "2025-09-18T12:48:00.528396Z"
    }
   },
   "cell_type": "code",
   "source": [
    "print(\"a = 0\")\n",
    "flag, x = GiaiPhuongTrinhBac2(0, 0, 0)\n",
    "print(f'So nghiem: {flag}, nghiem = {x}')\n",
    "flag, x = GiaiPhuongTrinhBac2(0, 0, 5)\n",
    "print(f'So nghiem: {flag}, nghiem = {x}')\n",
    "flag, x = GiaiPhuongTrinhBac2(0, 5, 6)\n",
    "print(f'So nghiem: {flag}, nghiem = {x}')\n",
    "\n",
    "print(\"a <> 0\")\n",
    "flag, x = GiaiPhuongTrinhBac2(5, 1, 2)\n",
    "print(f'So nghiem: {flag}, nghiem = {x}')\n",
    "flag, x = GiaiPhuongTrinhBac2(1, 2, 1)\n",
    "print(f'So nghiem: {flag}, nghiem = {x}')\n",
    "flag, x = GiaiPhuongTrinhBac2(1, 5, 6)\n",
    "print(f'So nghiem: {flag}, nghiem = {x}')"
   ],
   "id": "2ae1cdc6b68a0eac",
   "outputs": [
    {
     "name": "stdout",
     "output_type": "stream",
     "text": [
      "a = 0\n",
      "So nghiem: -1, nghiem = ()\n",
      "So nghiem: 0, nghiem = ()\n",
      "So nghiem: 1, nghiem = -1.2\n",
      "a <> 0\n",
      "So nghiem: 0, nghiem = ()\n",
      "So nghiem: 1, nghiem = -1.0\n",
      "So nghiem: 2, nghiem = (-2.0, -3.0)\n"
     ]
    }
   ],
   "execution_count": 27
  },
  {
   "metadata": {
    "ExecuteTime": {
     "end_time": "2025-09-18T12:53:17.960176Z",
     "start_time": "2025-09-18T12:53:09.344963Z"
    }
   },
   "cell_type": "code",
   "source": [
    "# Kết nối bài\n",
    "a, b, c = NhapDuLieu()\n",
    "# Gọi hàm giải\n",
    "flag, x = GiaiPhuongTrinhBac2(a, b, c)\n",
    "s = f\"Phuong trinh bac 2 {a}x^2 + {b}x + {c} = 0\"\n",
    "if flag == -1:\n",
    "    print(f\"{s} co vo so nghiem!\")\n",
    "elif flag == 0:\n",
    "    print(f\"{s} vo nghiem!\")\n",
    "elif flag == 1:\n",
    "    print(f\"{s} co 1 nghiem, x = {x[0]}!\")\n",
    "elif flag == 2:\n",
    "    print(f\"{s} co 2 nghiem, x1 = {x[0]}, x2 = {x[1]}!\")\n"
   ],
   "id": "d98138f23492efdc",
   "outputs": [
    {
     "name": "stdout",
     "output_type": "stream",
     "text": [
      "Phuong trinh bac 2 1x^2 + 5x + 6 = 0 co 2 nghiem, x1 = -2.0, x2 = -3.0!\n"
     ]
    }
   ],
   "execution_count": 31
  },
  {
   "metadata": {},
   "cell_type": "markdown",
   "source": "## 5. Dữ liệu nâng cao (List, Tuple, Set, Dictionary)",
   "id": "2908a26926bf38c1"
  },
  {
   "metadata": {},
   "cell_type": "markdown",
   "source": [
    "### Bài 8. Các thao tác xử lý mảng số\n",
    "Viết chương trình xây dựng các hàm sau cho List và kiểm tra tính đúng đắn của các hàm số:\n",
    "+ Nhập một mảng số từ bàn phím cách nhau bởi khoảng trắng. Xuất mảng ra màn hình. <br/>\n",
    "+ Sinh một mảng số ngẫu nhiên có n phần tử trong khoảng a, b.\n",
    "+ Tính tổng của mảng số, đếm các phần tử chẵn, lẻ trong mảng.\n",
    "+ Cho một mảng số, hãy trả về dãy chẳn, dãy lẻ.\n",
    "\n",
    "> a = NhapMang() <br/>\n",
    "> XuatMang(a) <br/>\n",
    "> b = SinhNgauNhien(10, -10, 10) <br/>\n",
    "> XuatMang(b) <br/>\n",
    "> tong, chan, le = TinhTongChanLe(b) <br/>\n",
    "> a_chan, a_le = TimChanLe(b) <br/>"
   ],
   "id": "ab5052ad1ae9260c"
  },
  {
   "metadata": {
    "ExecuteTime": {
     "end_time": "2025-09-18T13:09:04.780815Z",
     "start_time": "2025-09-18T13:09:04.777990Z"
    }
   },
   "cell_type": "code",
   "source": [
    "def NhapMang():\n",
    "    a = list(map(int, input(\"Moi ban nhap mang (cach nhau khoang trang): \").split()))\n",
    "    return a"
   ],
   "id": "2c0d8a89797b7349",
   "outputs": [],
   "execution_count": 32
  },
  {
   "metadata": {
    "ExecuteTime": {
     "end_time": "2025-09-18T13:09:27.824619Z",
     "start_time": "2025-09-18T13:09:16.820828Z"
    }
   },
   "cell_type": "code",
   "source": [
    "a = NhapMang()\n",
    "print(a)"
   ],
   "id": "79abc03e772278c1",
   "outputs": [
    {
     "name": "stdout",
     "output_type": "stream",
     "text": [
      "[1, 2, 3, 4, 3, 2, 4, 5, 3, 5, 4, 2]\n"
     ]
    }
   ],
   "execution_count": 33
  },
  {
   "metadata": {
    "ExecuteTime": {
     "end_time": "2025-09-18T13:15:57.944217Z",
     "start_time": "2025-09-18T13:15:57.941598Z"
    }
   },
   "cell_type": "code",
   "source": [
    "def XuatMang(a):\n",
    "    print(f\"Mang co {len(a)} phan tu: \", *a)"
   ],
   "id": "481089122868ca3a",
   "outputs": [],
   "execution_count": 37
  },
  {
   "metadata": {
    "ExecuteTime": {
     "end_time": "2025-09-18T13:15:59.502006Z",
     "start_time": "2025-09-18T13:15:59.496123Z"
    }
   },
   "cell_type": "code",
   "source": [
    "a = [1, 4, 1, 2, 3, 4, 1, 2, 3, 3, 1, 2, 3, 4, 10, 2]\n",
    "XuatMang(a)"
   ],
   "id": "dbf449c428ab2a08",
   "outputs": [
    {
     "name": "stdout",
     "output_type": "stream",
     "text": [
      "Mang co 16 phan tu:  1 4 1 2 3 4 1 2 3 3 1 2 3 4 10 2\n"
     ]
    }
   ],
   "execution_count": 38
  },
  {
   "metadata": {
    "ExecuteTime": {
     "end_time": "2025-09-18T13:23:59.118973Z",
     "start_time": "2025-09-18T13:23:59.114164Z"
    }
   },
   "cell_type": "code",
   "source": [
    "import random\n",
    "def SinhNgauNhien(n, vmin = -10, vmax = 10):\n",
    "    a = [random.randint(vmin, vmax) for _ in range(n)]\n",
    "    return a"
   ],
   "id": "29bd2b5aa847024a",
   "outputs": [],
   "execution_count": 40
  },
  {
   "metadata": {
    "ExecuteTime": {
     "end_time": "2025-09-18T13:24:30.600355Z",
     "start_time": "2025-09-18T13:24:30.595020Z"
    }
   },
   "cell_type": "code",
   "source": [
    "b = SinhNgauNhien(30, -10, 10)\n",
    "print(b)\n",
    "b = SinhNgauNhien(30, vmin = 0)\n",
    "print(b)\n",
    "b = SinhNgauNhien(30, vmax = 2)\n",
    "print(b)"
   ],
   "id": "4b07dad2950ef54b",
   "outputs": [
    {
     "name": "stdout",
     "output_type": "stream",
     "text": [
      "[-3, -10, -9, -5, 1, -10, -1, 8, -10, 9, -2, 7, 2, 4, -10, 9, 7, 8, -1, 1, -10, 10, -8, -10, -2, -10, -8, 9, 5, -4]\n",
      "[8, 6, 3, 0, 5, 9, 8, 2, 8, 0, 8, 6, 8, 8, 2, 10, 5, 3, 6, 2, 9, 9, 3, 10, 1, 4, 5, 2, 2, 6]\n",
      "[2, 1, -4, 1, 2, 0, -8, -1, -8, -3, -5, -10, -7, 0, -9, -5, -3, -3, -9, -9, -10, -8, -3, -7, -2, -2, -10, -3, -2, 0]\n"
     ]
    }
   ],
   "execution_count": 55
  },
  {
   "metadata": {
    "ExecuteTime": {
     "end_time": "2025-09-18T13:26:33.943815Z",
     "start_time": "2025-09-18T13:26:33.938587Z"
    }
   },
   "cell_type": "code",
   "source": [
    "def DemTongChanLe(a):\n",
    "    tong = 0\n",
    "    sochan = 0\n",
    "    sole = 0\n",
    "    for i in a:\n",
    "        tong += i\n",
    "        if i % 2 == 0:\n",
    "            sochan += 1\n",
    "        else:\n",
    "            sole += 1\n",
    "    return tong, sochan, sole"
   ],
   "id": "e7b99635a817c04c",
   "outputs": [],
   "execution_count": 56
  },
  {
   "metadata": {
    "ExecuteTime": {
     "end_time": "2025-09-18T13:26:46.404973Z",
     "start_time": "2025-09-18T13:26:46.397383Z"
    }
   },
   "cell_type": "code",
   "source": [
    "a = [1, 4, 2, 0, -1, -7, 3, -6, 4, 9, -5, 7, 7, -7, -10, 1, -10, 9, -4, -6, 10, -2, -10, -8, -3, 2, -7, -10, 6, 0]\n",
    "print(DemTongChanLe(a))\n",
    "a = [9, 6, 5, 0, 8, 8, 1, 10, 0, 0, 1, 1, 2, 7, 1, 10, 9, 1, 10, 8, 2, 8, 4, 5, 4, 5, 5, 3, 6, 2]\n",
    "print(DemTongChanLe(a))"
   ],
   "id": "30bbc0ad3607f61e",
   "outputs": [
    {
     "name": "stdout",
     "output_type": "stream",
     "text": [
      "(-31, 17, 13)\n",
      "(141, 17, 13)\n"
     ]
    }
   ],
   "execution_count": 57
  },
  {
   "metadata": {
    "ExecuteTime": {
     "end_time": "2025-09-18T13:28:28.629469Z",
     "start_time": "2025-09-18T13:28:28.621461Z"
    }
   },
   "cell_type": "code",
   "source": [
    "def DayChanLe(a):\n",
    "    achan = []\n",
    "    ale = []\n",
    "    for i in a:\n",
    "        if i % 2 == 0:\n",
    "            achan.append(i)\n",
    "        else:\n",
    "            ale.append(i)\n",
    "    return achan, ale"
   ],
   "id": "4712c6a5492ead29",
   "outputs": [],
   "execution_count": 58
  },
  {
   "metadata": {
    "ExecuteTime": {
     "end_time": "2025-09-18T13:28:41.167685Z",
     "start_time": "2025-09-18T13:28:41.158057Z"
    }
   },
   "cell_type": "code",
   "source": [
    "a = [1, 4, 2, 0, -1, -7, 3, -6, 4, 9, -5, 7, 7, -7, -10, 1, -10, 9, -4, -6, 10, -2, -10, -8, -3, 2, -7, -10, 6, 0]\n",
    "achan, ale = DayChanLe(a)\n",
    "print(f'DayChanLe:\\nChan = {achan}\\nLe = {ale}\\n')"
   ],
   "id": "660876ca4cdad676",
   "outputs": [
    {
     "name": "stdout",
     "output_type": "stream",
     "text": [
      "DayChanLe:\n",
      "Chan = [4, 2, 0, -6, 4, -10, -10, -4, -6, 10, -2, -10, -8, 2, -10, 6, 0]\n",
      "Le = [1, -1, -7, 3, 9, -5, 7, 7, -7, 1, 9, -3, -7]\n",
      "\n"
     ]
    }
   ],
   "execution_count": 59
  },
  {
   "metadata": {},
   "cell_type": "markdown",
   "source": [
    "### Bài 9. Các thao tác trên tập hợp, từ điển\n",
    "\n",
    "Viết chương trình nhập vào một dãy ký tự a cách nhau bởi khoảng trắng. Hãy thực hiện:\n",
    "+ In các ký tự trong a không trùng nhau và được sắp theo thứ tự tăng dần\n",
    "+ Đếm số lần xuất hiện các ký tự trong dãy a"
   ],
   "id": "b02fff89da900bf4"
  },
  {
   "metadata": {
    "ExecuteTime": {
     "end_time": "2025-09-18T13:52:23.366002Z",
     "start_time": "2025-09-18T13:52:23.362971Z"
    }
   },
   "cell_type": "code",
   "source": [
    "def XuLyKhongTrung(a):\n",
    "    s = set([])\n",
    "    for i in a:\n",
    "        s.add(i)\n",
    "    return sorted(s)"
   ],
   "id": "499c95a7d59e4248",
   "outputs": [],
   "execution_count": 65
  },
  {
   "metadata": {
    "ExecuteTime": {
     "end_time": "2025-09-18T13:52:23.997544Z",
     "start_time": "2025-09-18T13:52:23.994679Z"
    }
   },
   "cell_type": "code",
   "source": [
    "a = ['A', 'G', 'C', 'A', 'C', 'F', 'F', 'T', 'H']\n",
    "b = XuLyKhongTrung(a)\n",
    "print(b)"
   ],
   "id": "b94b4dc90ccb95e3",
   "outputs": [
    {
     "name": "stdout",
     "output_type": "stream",
     "text": [
      "['A', 'C', 'F', 'G', 'H', 'T']\n"
     ]
    }
   ],
   "execution_count": 66
  },
  {
   "metadata": {
    "ExecuteTime": {
     "end_time": "2025-09-18T13:57:16.596804Z",
     "start_time": "2025-09-18T13:57:16.593226Z"
    }
   },
   "cell_type": "code",
   "source": [
    "def DemSoLanXuatHien(a):\n",
    "    dem = {}\n",
    "    for i in a:\n",
    "        if dem.get(i):\n",
    "            dem[i] += 1\n",
    "        else:\n",
    "            dem[i] = 1\n",
    "    return dem"
   ],
   "id": "524e8ca73677d4a3",
   "outputs": [],
   "execution_count": 70
  },
  {
   "metadata": {
    "ExecuteTime": {
     "end_time": "2025-09-18T13:57:17.698661Z",
     "start_time": "2025-09-18T13:57:17.693391Z"
    }
   },
   "cell_type": "code",
   "source": [
    "a = ['A', 'G', 'C', 'A', 'C', 'F', 'F', 'T', 'H']\n",
    "b = DemSoLanXuatHien(a)\n",
    "print(b)"
   ],
   "id": "12f6af1e32673f90",
   "outputs": [
    {
     "name": "stdout",
     "output_type": "stream",
     "text": [
      "{'A': 2, 'G': 1, 'C': 2, 'F': 2, 'T': 1, 'H': 1}\n"
     ]
    }
   ],
   "execution_count": 71
  }
 ],
 "metadata": {
  "kernelspec": {
   "display_name": "Python 3",
   "language": "python",
   "name": "python3"
  },
  "language_info": {
   "codemirror_mode": {
    "name": "ipython",
    "version": 2
   },
   "file_extension": ".py",
   "mimetype": "text/x-python",
   "name": "python",
   "nbconvert_exporter": "python",
   "pygments_lexer": "ipython2",
   "version": "2.7.6"
  }
 },
 "nbformat": 4,
 "nbformat_minor": 5
}
