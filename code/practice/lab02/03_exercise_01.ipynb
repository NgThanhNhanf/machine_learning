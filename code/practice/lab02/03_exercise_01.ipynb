{
 "cells": [
  {
   "metadata": {},
   "cell_type": "markdown",
   "source": "# Cơ bản về ngôn ngữ lập trình python",
   "id": "7e0b94238efc6a7b"
  },
  {
   "metadata": {},
   "cell_type": "markdown",
   "source": "## 1. Nhập/xuất biểu thức tính toán",
   "id": "93af21e47124809b"
  },
  {
   "metadata": {},
   "cell_type": "markdown",
   "source": [
    "### Bài 1. Tính giá trị hàm số\n",
    "**Yêu cầu**: Hãy viết chương trình nhập vào số thực x và tính giá trị biểu thức:\n",
    "$$\n",
    "    f\\left(x\\right) = x + \\frac{x^5}{5!} + \\frac{\\sqrt{|x|}}{x^{3/2}}\n",
    "$$\n",
    "> Moi ban nhap vao gia tri cua bien so x: **2.3** <br/>\n",
    "> Gia tri cua ham so f(**2.3**) = **3.27**."
   ],
   "id": "7cca3afae1bb0826"
  },
  {
   "metadata": {
    "ExecuteTime": {
     "end_time": "2025-09-18T10:34:34.100727Z",
     "start_time": "2025-09-18T10:34:27.663422Z"
    }
   },
   "cell_type": "code",
   "source": [
    "# Khai báo thư viện\n",
    "import math\n",
    "\n",
    "# Nhập dữ liệu\n",
    "x = float(input(\"Moi ban nhap vao gia tri cua bien so x: \"))\n",
    "\n",
    "# Xử lý\n",
    "f_x = x + (x ** 5.0) / (math.factorial(5)) + (abs(x) ** 0.5) / (x ** (3.0/2.0))\n",
    "#\n",
    "\n",
    "# Xuất dữ liệu\n",
    "print(f\"Gia tri cua ham so f({x}) = {f_x:.2f}\")"
   ],
   "id": "134ac72f26d6d761",
   "outputs": [
    {
     "name": "stdout",
     "output_type": "stream",
     "text": [
      "Gia tri cua ham so f(5.0) = 31.24\n"
     ]
    }
   ],
   "execution_count": 1
  },
  {
   "metadata": {},
   "cell_type": "markdown",
   "source": [
    "### Bài 2. Đổi sang giờ phút giây\n",
    "Một thiết bị hoạt động được t giây. Hãy viết chương trình chuyển số giây đó dưới dạng số giờ, số phút và số giây.\n",
    ">Nhap vao tong so giay: **4810** <br/>\n",
    ">**4810** giay co dang **1:20:10**"
   ],
   "id": "6093367e87ba535a"
  },
  {
   "metadata": {
    "ExecuteTime": {
     "end_time": "2025-09-15T17:54:01.026520Z",
     "start_time": "2025-09-15T17:53:57.285248Z"
    }
   },
   "cell_type": "code",
   "source": [
    "# Nhập dữ liệu\n",
    "t = int(input(\"Nhap vao tong so giay: \"))\n",
    "\n",
    "# Xử lý\n",
    "ss = t\n",
    "hh = int(t / 3600)\n",
    "ss %= 3600\n",
    "mm = int(t / 60)\n",
    "ss %= 60\n",
    "#\n",
    "\n",
    "# Xuất dữ liệu\n",
    "print(f\"{t} giay co dang {hh}:{mm}:{ss}\")"
   ],
   "id": "d799411080ad0a1a",
   "outputs": [
    {
     "name": "stdout",
     "output_type": "stream",
     "text": [
      "4810 giay co dang 1:80:10\n"
     ]
    }
   ],
   "execution_count": 9
  },
  {
   "metadata": {},
   "cell_type": "markdown",
   "source": "## Cấu trúc lựa chọn",
   "id": "bdd179db67279b49"
  },
  {
   "metadata": {},
   "cell_type": "markdown",
   "source": [
    "### Bài 3. Giải phuơng trình bậc 1\n",
    "Nhập 2 số thực $a$, $b$. Tìm nghiệm của phương trình bậc 1 $ax + b = 0$."
   ],
   "id": "9beeea74d77d1ad7"
  },
  {
   "metadata": {},
   "cell_type": "code",
   "outputs": [],
   "execution_count": null,
   "source": [
    "# Nhập dữ liệu\n",
    "a = int(input())"
   ],
   "id": "71cb2258cb9ca10d"
  }
 ],
 "metadata": {
  "kernelspec": {
   "display_name": "Python 3",
   "language": "python",
   "name": "python3"
  },
  "language_info": {
   "codemirror_mode": {
    "name": "ipython",
    "version": 2
   },
   "file_extension": ".py",
   "mimetype": "text/x-python",
   "name": "python",
   "nbconvert_exporter": "python",
   "pygments_lexer": "ipython2",
   "version": "2.7.6"
  }
 },
 "nbformat": 4,
 "nbformat_minor": 5
}
