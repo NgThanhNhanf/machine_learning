{
 "cells": [
  {
   "metadata": {},
   "cell_type": "markdown",
   "source": "# Main chạy các tệp ex??_calc.ipynb",
   "id": "cdad57c999939f37"
  },
  {
   "metadata": {},
   "cell_type": "markdown",
   "source": "## Bài làm",
   "id": "dee1a364df35e452"
  },
  {
   "metadata": {},
   "cell_type": "markdown",
   "source": "### Run ex1_calc.py",
   "id": "51d2f68d4a875dfb"
  },
  {
   "metadata": {
    "ExecuteTime": {
     "end_time": "2025-09-15T16:28:41.146052Z",
     "start_time": "2025-09-15T16:28:33.805503Z"
    }
   },
   "cell_type": "code",
   "source": "%run ex1_calc.py",
   "id": "a215c87341420b7b",
   "outputs": [
    {
     "name": "stdout",
     "output_type": "stream",
     "text": [
      "Calculator Basic\n",
      "c = 2 + 3 = 5\n"
     ]
    }
   ],
   "execution_count": 23
  },
  {
   "metadata": {},
   "cell_type": "markdown",
   "source": "### Run ex3_circle.py",
   "id": "7b27d35f2220aebb"
  },
  {
   "metadata": {
    "ExecuteTime": {
     "end_time": "2025-09-15T16:39:23.627286Z",
     "start_time": "2025-09-15T16:39:20.700885Z"
    }
   },
   "cell_type": "code",
   "source": "%run ex3_circle.py",
   "id": "108616e019b723ec",
   "outputs": [
    {
     "name": "stdout",
     "output_type": "stream",
     "text": [
      "Radius and area of circle\n",
      "Chu vi hinh tron co ban kinh la 5.0: 31.42\n",
      "Dien tich hinh tron co ban kinh la 5.0: 78.54\n"
     ]
    }
   ],
   "execution_count": 24
  }
 ],
 "metadata": {
  "kernelspec": {
   "display_name": "Python 3",
   "language": "python",
   "name": "python3"
  },
  "language_info": {
   "codemirror_mode": {
    "name": "ipython",
    "version": 2
   },
   "file_extension": ".py",
   "mimetype": "text/x-python",
   "name": "python",
   "nbconvert_exporter": "python",
   "pygments_lexer": "ipython2",
   "version": "2.7.6"
  }
 },
 "nbformat": 4,
 "nbformat_minor": 5
}
