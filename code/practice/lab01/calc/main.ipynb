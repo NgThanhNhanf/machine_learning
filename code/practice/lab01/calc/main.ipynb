{
 "cells": [
  {
   "metadata": {},
   "cell_type": "markdown",
   "source": "# Main chạy các tệp ex??_calc.ipynb",
   "id": "cdad57c999939f37"
  },
  {
   "metadata": {},
   "cell_type": "markdown",
   "source": "## Bài làm",
   "id": "dee1a364df35e452"
  },
  {
   "metadata": {},
   "cell_type": "markdown",
   "source": "### In chu ra man hinh (ex0_hello_world.py)",
   "id": "8322a47b05247aa1"
  },
  {
   "metadata": {
    "ExecuteTime": {
     "end_time": "2025-09-15T17:12:08.012262Z",
     "start_time": "2025-09-15T17:12:07.999955Z"
    }
   },
   "cell_type": "code",
   "source": " %run calc/ex0_hello_world.py",
   "id": "c6bc402e11b8d62",
   "outputs": [
    {
     "name": "stdout",
     "output_type": "stream",
     "text": [
      "Hello, Python World!\n"
     ]
    }
   ],
   "execution_count": 36
  },
  {
   "metadata": {},
   "cell_type": "markdown",
   "source": "### Tinh toan don gian (ex1_calc.py)",
   "id": "51d2f68d4a875dfb"
  },
  {
   "metadata": {
    "ExecuteTime": {
     "end_time": "2025-09-15T17:07:30.546538Z",
     "start_time": "2025-09-15T17:07:26.974438Z"
    }
   },
   "cell_type": "code",
   "source": "%run calc/ex1_calc.py",
   "id": "a215c87341420b7b",
   "outputs": [
    {
     "name": "stdout",
     "output_type": "stream",
     "text": [
      "Calculator Basic\n",
      "c = 2 + 3 = 5\n"
     ]
    }
   ],
   "execution_count": 33
  },
  {
   "metadata": {},
   "cell_type": "markdown",
   "source": "### Run ex3_circle.py",
   "id": "7b27d35f2220aebb"
  },
  {
   "metadata": {
    "ExecuteTime": {
     "end_time": "2025-09-15T17:07:47.362994Z",
     "start_time": "2025-09-15T17:07:45.042308Z"
    }
   },
   "cell_type": "code",
   "source": "%run calc/ex3_circle.py",
   "id": "108616e019b723ec",
   "outputs": [
    {
     "name": "stdout",
     "output_type": "stream",
     "text": [
      "Radius and area of circle\n",
      "Chu vi hinh tron co ban kinh la 5.0: 31.42\n",
      "Dien tich hinh tron co ban kinh la 5.0: 78.54\n"
     ]
    }
   ],
   "execution_count": 35
  }
 ],
 "metadata": {
  "kernelspec": {
   "display_name": "Python 3",
   "language": "python",
   "name": "python3"
  },
  "language_info": {
   "codemirror_mode": {
    "name": "ipython",
    "version": 2
   },
   "file_extension": ".py",
   "mimetype": "text/x-python",
   "name": "python",
   "nbconvert_exporter": "python",
   "pygments_lexer": "ipython2",
   "version": "2.7.6"
  }
 },
 "nbformat": 4,
 "nbformat_minor": 5
}
