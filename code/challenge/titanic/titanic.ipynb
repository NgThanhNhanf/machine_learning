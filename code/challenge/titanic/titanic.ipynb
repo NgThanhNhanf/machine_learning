{
 "cells": [
  {
   "metadata": {},
   "cell_type": "markdown",
   "source": "## Titanic - Machine Learning from Disaster",
   "id": "ee7beff55113574"
  },
  {
   "metadata": {},
   "cell_type": "markdown",
   "source": "",
   "id": "ebd5792310a52c34"
  }
 ],
 "metadata": {
  "kernelspec": {
   "display_name": "Python 3",
   "language": "python",
   "name": "python3"
  },
  "language_info": {
   "codemirror_mode": {
    "name": "ipython",
    "version": 2
   },
   "file_extension": ".py",
   "mimetype": "text/x-python",
   "name": "python",
   "nbconvert_exporter": "python",
   "pygments_lexer": "ipython2",
   "version": "2.7.6"
  }
 },
 "nbformat": 4,
 "nbformat_minor": 5
}
