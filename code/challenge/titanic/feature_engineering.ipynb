{
 "cells": [
  {
   "cell_type": "code",
   "execution_count": 1,
   "id": "29f9e059",
   "metadata": {
    "_cell_guid": "b1076dfc-b9ad-4769-8c92-a6c4dae69d19",
    "_uuid": "8f2839f25d086af736a60e9eeb907d3b93b6e0e5",
    "execution": {
     "iopub.execute_input": "2025-10-08T03:01:02.778132Z",
     "iopub.status.busy": "2025-10-08T03:01:02.777709Z",
     "iopub.status.idle": "2025-10-08T03:01:04.948906Z",
     "shell.execute_reply": "2025-10-08T03:01:04.947403Z"
    },
    "papermill": {
     "duration": 2.185093,
     "end_time": "2025-10-08T03:01:04.950651",
     "exception": false,
     "start_time": "2025-10-08T03:01:02.765558",
     "status": "completed"
    },
    "tags": []
   },
   "outputs": [
    {
     "name": "stdout",
     "output_type": "stream",
     "text": [
      "/kaggle/input/titanic/train.csv\n",
      "/kaggle/input/titanic/test.csv\n",
      "/kaggle/input/titanic/gender_submission.csv\n"
     ]
    }
   ],
   "source": [
    "# This Python 3 environment comes with many helpful analytics libraries installed\n",
    "# It is defined by the kaggle/python Docker image: https://github.com/kaggle/docker-python\n",
    "# For example, here's several helpful packages to load\n",
    "\n",
    "import numpy as np # linear algebra\n",
    "import pandas as pd # data processing, CSV file I/O (e.g. pd.read_csv)\n",
    "\n",
    "# Input data files are available in the read-only \"../input/\" directory\n",
    "# For example, running this (by clicking run or pressing Shift+Enter) will list all files under the input directory\n",
    "\n",
    "import os\n",
    "for dirname, _, filenames in os.walk('/kaggle/input'):\n",
    "    for filename in filenames:\n",
    "        print(os.path.join(dirname, filename))\n",
    "\n",
    "# You can write up to 20GB to the current directory (/kaggle/working/) that gets preserved as output when you create a version using \"Save & Run All\" \n",
    "# You can also write temporary files to /kaggle/temp/, but they won't be saved outside of the current session"
   ]
  },
  {
   "cell_type": "markdown",
   "id": "78a0fd08",
   "metadata": {
    "papermill": {
     "duration": 0.008722,
     "end_time": "2025-10-08T03:01:04.969134",
     "exception": false,
     "start_time": "2025-10-08T03:01:04.960412",
     "status": "completed"
    },
    "tags": []
   },
   "source": [
    "# Nhập dữ liệu"
   ]
  },
  {
   "cell_type": "code",
   "execution_count": 2,
   "id": "925b06b8",
   "metadata": {
    "execution": {
     "iopub.execute_input": "2025-10-08T03:01:04.988980Z",
     "iopub.status.busy": "2025-10-08T03:01:04.988493Z",
     "iopub.status.idle": "2025-10-08T03:01:07.509366Z",
     "shell.execute_reply": "2025-10-08T03:01:07.508118Z"
    },
    "papermill": {
     "duration": 2.533291,
     "end_time": "2025-10-08T03:01:07.511399",
     "exception": false,
     "start_time": "2025-10-08T03:01:04.978108",
     "status": "completed"
    },
    "tags": []
   },
   "outputs": [],
   "source": [
    "import pandas as pd\n",
    "import numpy as np\n",
    "import matplotlib.pyplot as plt\n",
    "import seaborn as sns\n",
    "from sklearn.preprocessing import minmax_scale, StandardScaler\n",
    "from sklearn.model_selection import train_test_split"
   ]
  },
  {
   "cell_type": "code",
   "execution_count": 3,
   "id": "c58fff9d",
   "metadata": {
    "execution": {
     "iopub.execute_input": "2025-10-08T03:01:07.531649Z",
     "iopub.status.busy": "2025-10-08T03:01:07.531081Z",
     "iopub.status.idle": "2025-10-08T03:01:07.564264Z",
     "shell.execute_reply": "2025-10-08T03:01:07.562860Z"
    },
    "papermill": {
     "duration": 0.046,
     "end_time": "2025-10-08T03:01:07.566701",
     "exception": false,
     "start_time": "2025-10-08T03:01:07.520701",
     "status": "completed"
    },
    "tags": []
   },
   "outputs": [],
   "source": [
    "train = pd.read_csv('/kaggle/input/titanic/train.csv')\n",
    "test = pd.read_csv('/kaggle/input/titanic/test.csv')"
   ]
  },
  {
   "cell_type": "code",
   "execution_count": 4,
   "id": "8f74175b",
   "metadata": {
    "execution": {
     "iopub.execute_input": "2025-10-08T03:01:07.587531Z",
     "iopub.status.busy": "2025-10-08T03:01:07.587147Z",
     "iopub.status.idle": "2025-10-08T03:01:07.619880Z",
     "shell.execute_reply": "2025-10-08T03:01:07.618571Z"
    },
    "papermill": {
     "duration": 0.045715,
     "end_time": "2025-10-08T03:01:07.621991",
     "exception": false,
     "start_time": "2025-10-08T03:01:07.576276",
     "status": "completed"
    },
    "tags": []
   },
   "outputs": [
    {
     "data": {
      "text/html": [
       "<div>\n",
       "<style scoped>\n",
       "    .dataframe tbody tr th:only-of-type {\n",
       "        vertical-align: middle;\n",
       "    }\n",
       "\n",
       "    .dataframe tbody tr th {\n",
       "        vertical-align: top;\n",
       "    }\n",
       "\n",
       "    .dataframe thead th {\n",
       "        text-align: right;\n",
       "    }\n",
       "</style>\n",
       "<table border=\"1\" class=\"dataframe\">\n",
       "  <thead>\n",
       "    <tr style=\"text-align: right;\">\n",
       "      <th></th>\n",
       "      <th>PassengerId</th>\n",
       "      <th>Survived</th>\n",
       "      <th>Pclass</th>\n",
       "      <th>Name</th>\n",
       "      <th>Sex</th>\n",
       "      <th>Age</th>\n",
       "      <th>SibSp</th>\n",
       "      <th>Parch</th>\n",
       "      <th>Ticket</th>\n",
       "      <th>Fare</th>\n",
       "      <th>Cabin</th>\n",
       "      <th>Embarked</th>\n",
       "    </tr>\n",
       "  </thead>\n",
       "  <tbody>\n",
       "    <tr>\n",
       "      <th>0</th>\n",
       "      <td>1</td>\n",
       "      <td>0</td>\n",
       "      <td>3</td>\n",
       "      <td>Braund, Mr. Owen Harris</td>\n",
       "      <td>male</td>\n",
       "      <td>22.0</td>\n",
       "      <td>1</td>\n",
       "      <td>0</td>\n",
       "      <td>A/5 21171</td>\n",
       "      <td>7.2500</td>\n",
       "      <td>NaN</td>\n",
       "      <td>S</td>\n",
       "    </tr>\n",
       "    <tr>\n",
       "      <th>1</th>\n",
       "      <td>2</td>\n",
       "      <td>1</td>\n",
       "      <td>1</td>\n",
       "      <td>Cumings, Mrs. John Bradley (Florence Briggs Th...</td>\n",
       "      <td>female</td>\n",
       "      <td>38.0</td>\n",
       "      <td>1</td>\n",
       "      <td>0</td>\n",
       "      <td>PC 17599</td>\n",
       "      <td>71.2833</td>\n",
       "      <td>C85</td>\n",
       "      <td>C</td>\n",
       "    </tr>\n",
       "    <tr>\n",
       "      <th>2</th>\n",
       "      <td>3</td>\n",
       "      <td>1</td>\n",
       "      <td>3</td>\n",
       "      <td>Heikkinen, Miss. Laina</td>\n",
       "      <td>female</td>\n",
       "      <td>26.0</td>\n",
       "      <td>0</td>\n",
       "      <td>0</td>\n",
       "      <td>STON/O2. 3101282</td>\n",
       "      <td>7.9250</td>\n",
       "      <td>NaN</td>\n",
       "      <td>S</td>\n",
       "    </tr>\n",
       "    <tr>\n",
       "      <th>3</th>\n",
       "      <td>4</td>\n",
       "      <td>1</td>\n",
       "      <td>1</td>\n",
       "      <td>Futrelle, Mrs. Jacques Heath (Lily May Peel)</td>\n",
       "      <td>female</td>\n",
       "      <td>35.0</td>\n",
       "      <td>1</td>\n",
       "      <td>0</td>\n",
       "      <td>113803</td>\n",
       "      <td>53.1000</td>\n",
       "      <td>C123</td>\n",
       "      <td>S</td>\n",
       "    </tr>\n",
       "    <tr>\n",
       "      <th>4</th>\n",
       "      <td>5</td>\n",
       "      <td>0</td>\n",
       "      <td>3</td>\n",
       "      <td>Allen, Mr. William Henry</td>\n",
       "      <td>male</td>\n",
       "      <td>35.0</td>\n",
       "      <td>0</td>\n",
       "      <td>0</td>\n",
       "      <td>373450</td>\n",
       "      <td>8.0500</td>\n",
       "      <td>NaN</td>\n",
       "      <td>S</td>\n",
       "    </tr>\n",
       "  </tbody>\n",
       "</table>\n",
       "</div>"
      ],
      "text/plain": [
       "   PassengerId  Survived  Pclass  \\\n",
       "0            1         0       3   \n",
       "1            2         1       1   \n",
       "2            3         1       3   \n",
       "3            4         1       1   \n",
       "4            5         0       3   \n",
       "\n",
       "                                                Name     Sex   Age  SibSp  \\\n",
       "0                            Braund, Mr. Owen Harris    male  22.0      1   \n",
       "1  Cumings, Mrs. John Bradley (Florence Briggs Th...  female  38.0      1   \n",
       "2                             Heikkinen, Miss. Laina  female  26.0      0   \n",
       "3       Futrelle, Mrs. Jacques Heath (Lily May Peel)  female  35.0      1   \n",
       "4                           Allen, Mr. William Henry    male  35.0      0   \n",
       "\n",
       "   Parch            Ticket     Fare Cabin Embarked  \n",
       "0      0         A/5 21171   7.2500   NaN        S  \n",
       "1      0          PC 17599  71.2833   C85        C  \n",
       "2      0  STON/O2. 3101282   7.9250   NaN        S  \n",
       "3      0            113803  53.1000  C123        S  \n",
       "4      0            373450   8.0500   NaN        S  "
      ]
     },
     "execution_count": 4,
     "metadata": {},
     "output_type": "execute_result"
    }
   ],
   "source": [
    "train.head()"
   ]
  },
  {
   "cell_type": "markdown",
   "id": "a7105402",
   "metadata": {
    "papermill": {
     "duration": 0.009214,
     "end_time": "2025-10-08T03:01:07.641161",
     "exception": false,
     "start_time": "2025-10-08T03:01:07.631947",
     "status": "completed"
    },
    "tags": []
   },
   "source": [
    "# Phân tích feature"
   ]
  },
  {
   "cell_type": "code",
   "execution_count": 5,
   "id": "d20067a0",
   "metadata": {
    "execution": {
     "iopub.execute_input": "2025-10-08T03:01:07.661882Z",
     "iopub.status.busy": "2025-10-08T03:01:07.660732Z",
     "iopub.status.idle": "2025-10-08T03:01:07.988498Z",
     "shell.execute_reply": "2025-10-08T03:01:07.987420Z"
    },
    "papermill": {
     "duration": 0.339564,
     "end_time": "2025-10-08T03:01:07.990070",
     "exception": false,
     "start_time": "2025-10-08T03:01:07.650506",
     "status": "completed"
    },
    "tags": []
   },
   "outputs": [
    {
     "name": "stderr",
     "output_type": "stream",
     "text": [
      "/usr/local/lib/python3.11/dist-packages/seaborn/_oldcore.py:1119: FutureWarning: use_inf_as_na option is deprecated and will be removed in a future version. Convert inf values to NaN before operating instead.\n",
      "  with pd.option_context('mode.use_inf_as_na', True):\n"
     ]
    },
    {
     "data": {
      "image/png": "[encoded data removed]",
      "text/plain": [
       "<Figure size 1200x600 with 1 Axes>"
      ]
     },
     "metadata": {},
     "output_type": "display_data"
    }
   ],
   "source": [
    "plt.figure(figsize = (12, 6))\n",
    "count = train[train['Survived'] == 0]\n",
    "sns.histplot(count, x = 'Age')\n",
    "plt.show()"
   ]
  },
  {
   "cell_type": "code",
   "execution_count": 6,
   "id": "6b573934",
   "metadata": {
    "execution": {
     "iopub.execute_input": "2025-10-08T03:01:08.012403Z",
     "iopub.status.busy": "2025-10-08T03:01:08.011194Z",
     "iopub.status.idle": "2025-10-08T03:01:08.224679Z",
     "shell.execute_reply": "2025-10-08T03:01:08.223318Z"
    },
    "papermill": {
     "duration": 0.226498,
     "end_time": "2025-10-08T03:01:08.226660",
     "exception": false,
     "start_time": "2025-10-08T03:01:08.000162",
     "status": "completed"
    },
    "tags": []
   },
   "outputs": [
    {
     "name": "stderr",
     "output_type": "stream",
     "text": [
      "/usr/local/lib/python3.11/dist-packages/seaborn/_oldcore.py:1119: FutureWarning: use_inf_as_na option is deprecated and will be removed in a future version. Convert inf values to NaN before operating instead.\n",
      "  with pd.option_context('mode.use_inf_as_na', True):\n"
     ]
    },
    {
     "data": {
      "image/png": "[encoded data removed]",
      "text/plain": [
       "<Figure size 1200x600 with 1 Axes>"
      ]
     },
     "metadata": {},
     "output_type": "display_data"
    }
   ],
   "source": [
    "plt.figure(figsize = (12, 6))\n",
    "count = train[train['Survived'] == 1]\n",
    "sns.histplot(count, x = 'Age')\n",
    "plt.show()"
   ]
  },
  {
   "cell_type": "code",
   "execution_count": 7,
   "id": "172359fa",
   "metadata": {
    "execution": {
     "iopub.execute_input": "2025-10-08T03:01:08.248645Z",
     "iopub.status.busy": "2025-10-08T03:01:08.248287Z",
     "iopub.status.idle": "2025-10-08T03:01:08.523354Z",
     "shell.execute_reply": "2025-10-08T03:01:08.522427Z"
    },
    "papermill": {
     "duration": 0.287968,
     "end_time": "2025-10-08T03:01:08.525078",
     "exception": false,
     "start_time": "2025-10-08T03:01:08.237110",
     "status": "completed"
    },
    "tags": []
   },
   "outputs": [
    {
     "name": "stderr",
     "output_type": "stream",
     "text": [
      "/usr/local/lib/python3.11/dist-packages/seaborn/_oldcore.py:1119: FutureWarning: use_inf_as_na option is deprecated and will be removed in a future version. Convert inf values to NaN before operating instead.\n",
      "  with pd.option_context('mode.use_inf_as_na', True):\n",
      "/usr/local/lib/python3.11/dist-packages/seaborn/_oldcore.py:1119: FutureWarning: use_inf_as_na option is deprecated and will be removed in a future version. Convert inf values to NaN before operating instead.\n",
      "  with pd.option_context('mode.use_inf_as_na', True):\n"
     ]
    },
    {
     "data": {
      "image/png": "[encoded data removed]",
      "text/plain": [
       "<Figure size 1200x600 with 1 Axes>"
      ]
     },
     "metadata": {},
     "output_type": "display_data"
    }
   ],
   "source": [
    "plt.figure(figsize = (12, 6))\n",
    "sns.kdeplot(train['Fare'][train.Survived == 1], color=\"green\")\n",
    "sns.kdeplot(train['Fare'][train.Survived == 0], color=\"red\")\n",
    "plt.legend(['Survived', 'Not Survived'])\n",
    "plt.xlim(0, 250)\n",
    "plt.show()"
   ]
  },
  {
   "cell_type": "markdown",
   "id": "b7f5a728",
   "metadata": {
    "papermill": {
     "duration": 0.010498,
     "end_time": "2025-10-08T03:01:08.546561",
     "exception": false,
     "start_time": "2025-10-08T03:01:08.536063",
     "status": "completed"
    },
    "tags": []
   },
   "source": [
    "# Xử lý giá trị thiếu"
   ]
  },
  {
   "cell_type": "markdown",
   "id": "ddf7b180",
   "metadata": {
    "papermill": {
     "duration": 0.011545,
     "end_time": "2025-10-08T03:01:08.569126",
     "exception": false,
     "start_time": "2025-10-08T03:01:08.557581",
     "status": "completed"
    },
    "tags": []
   },
   "source": [
    "## Age"
   ]
  },
  {
   "cell_type": "code",
   "execution_count": 8,
   "id": "ea967702",
   "metadata": {
    "execution": {
     "iopub.execute_input": "2025-10-08T03:01:08.593103Z",
     "iopub.status.busy": "2025-10-08T03:01:08.592111Z",
     "iopub.status.idle": "2025-10-08T03:01:08.599705Z",
     "shell.execute_reply": "2025-10-08T03:01:08.598679Z"
    },
    "papermill": {
     "duration": 0.021336,
     "end_time": "2025-10-08T03:01:08.601336",
     "exception": false,
     "start_time": "2025-10-08T03:01:08.580000",
     "status": "completed"
    },
    "tags": []
   },
   "outputs": [
    {
     "name": "stdout",
     "output_type": "stream",
     "text": [
      "{'Mme', 'Jonkheer', 'Don', 'Col', 'Miss', 'Master', 'Mlle', 'Capt', 'Ms', 'Major', 'Sir', 'Rev', 'Dr', 'the Countess', 'Lady', 'Mrs', 'Mr'}\n"
     ]
    }
   ],
   "source": [
    "titles = set()\n",
    "for name in train['Name']:\n",
    "    titles.add(name.split(',')[1].split('.')[0].strip())\n",
    "\n",
    "print(titles)"
   ]
  },
  {
   "cell_type": "code",
   "execution_count": 9,
   "id": "f210e0a7",
   "metadata": {
    "execution": {
     "iopub.execute_input": "2025-10-08T03:01:08.624865Z",
     "iopub.status.busy": "2025-10-08T03:01:08.624511Z",
     "iopub.status.idle": "2025-10-08T03:01:08.630814Z",
     "shell.execute_reply": "2025-10-08T03:01:08.629838Z"
    },
    "papermill": {
     "duration": 0.020148,
     "end_time": "2025-10-08T03:01:08.632486",
     "exception": false,
     "start_time": "2025-10-08T03:01:08.612338",
     "status": "completed"
    },
    "tags": []
   },
   "outputs": [],
   "source": [
    "Title_Dictionary = {\n",
    "    \"Capt\": \"Officer\",\n",
    "    \"Col\": \"Officer\",\n",
    "    \"Major\": \"Officer\",\n",
    "    \"Jonkheer\": \"Royalty\",\n",
    "    \"Don\": \"Royalty\",\n",
    "    \"Sir\" : \"Royalty\",\n",
    "    \"Dr\": \"Officer\",\n",
    "    \"Rev\": \"Officer\",\n",
    "    \"the Countess\":\"Royalty\",\n",
    "    \"Mme\": \"Mrs\",\n",
    "    \"Mlle\": \"Miss\",\n",
    "    \"Ms\": \"Mrs\",\n",
    "    \"Mr\" : \"Mr\",\n",
    "    \"Mrs\" : \"Mrs\",\n",
    "    \"Miss\" : \"Miss\",\n",
    "    \"Master\" : \"Master\",\n",
    "    \"Lady\" : \"Royalty\",\n",
    "    \"Dona\": \"Royalty\"\n",
    "}\n",
    "\n",
    "def get_titles(df):\n",
    "    df['Title'] = df['Name'].map(lambda name:name.split(',')[1].split('.')[0].strip())\n",
    "    \n",
    "    df['Title'] = df.Title.map(Title_Dictionary)\n",
    "    return df"
   ]
  },
  {
   "cell_type": "code",
   "execution_count": 10,
   "id": "3a587265",
   "metadata": {
    "execution": {
     "iopub.execute_input": "2025-10-08T03:01:08.656144Z",
     "iopub.status.busy": "2025-10-08T03:01:08.655065Z",
     "iopub.status.idle": "2025-10-08T03:01:08.664691Z",
     "shell.execute_reply": "2025-10-08T03:01:08.663618Z"
    },
    "papermill": {
     "duration": 0.023019,
     "end_time": "2025-10-08T03:01:08.666446",
     "exception": false,
     "start_time": "2025-10-08T03:01:08.643427",
     "status": "completed"
    },
    "tags": []
   },
   "outputs": [],
   "source": [
    "train = get_titles(train)\n",
    "test = get_titles(test)"
   ]
  },
  {
   "cell_type": "code",
   "execution_count": 11,
   "id": "3df02802",
   "metadata": {
    "execution": {
     "iopub.execute_input": "2025-10-08T03:01:08.689716Z",
     "iopub.status.busy": "2025-10-08T03:01:08.689360Z",
     "iopub.status.idle": "2025-10-08T03:01:08.710558Z",
     "shell.execute_reply": "2025-10-08T03:01:08.709596Z"
    },
    "papermill": {
     "duration": 0.034662,
     "end_time": "2025-10-08T03:01:08.712266",
     "exception": false,
     "start_time": "2025-10-08T03:01:08.677604",
     "status": "completed"
    },
    "tags": []
   },
   "outputs": [
    {
     "data": {
      "text/html": [
       "<div>\n",
       "<style scoped>\n",
       "    .dataframe tbody tr th:only-of-type {\n",
       "        vertical-align: middle;\n",
       "    }\n",
       "\n",
       "    .dataframe tbody tr th {\n",
       "        vertical-align: top;\n",
       "    }\n",
       "\n",
       "    .dataframe thead th {\n",
       "        text-align: right;\n",
       "    }\n",
       "</style>\n",
       "<table border=\"1\" class=\"dataframe\">\n",
       "  <thead>\n",
       "    <tr style=\"text-align: right;\">\n",
       "      <th></th>\n",
       "      <th>Sex</th>\n",
       "      <th>Pclass</th>\n",
       "      <th>Title</th>\n",
       "      <th>Age</th>\n",
       "    </tr>\n",
       "  </thead>\n",
       "  <tbody>\n",
       "    <tr>\n",
       "      <th>0</th>\n",
       "      <td>female</td>\n",
       "      <td>1</td>\n",
       "      <td>Miss</td>\n",
       "      <td>30.0</td>\n",
       "    </tr>\n",
       "    <tr>\n",
       "      <th>1</th>\n",
       "      <td>female</td>\n",
       "      <td>1</td>\n",
       "      <td>Mrs</td>\n",
       "      <td>40.0</td>\n",
       "    </tr>\n",
       "    <tr>\n",
       "      <th>2</th>\n",
       "      <td>female</td>\n",
       "      <td>1</td>\n",
       "      <td>Officer</td>\n",
       "      <td>49.0</td>\n",
       "    </tr>\n",
       "    <tr>\n",
       "      <th>3</th>\n",
       "      <td>female</td>\n",
       "      <td>1</td>\n",
       "      <td>Royalty</td>\n",
       "      <td>40.5</td>\n",
       "    </tr>\n",
       "    <tr>\n",
       "      <th>4</th>\n",
       "      <td>female</td>\n",
       "      <td>2</td>\n",
       "      <td>Miss</td>\n",
       "      <td>24.0</td>\n",
       "    </tr>\n",
       "  </tbody>\n",
       "</table>\n",
       "</div>"
      ],
      "text/plain": [
       "      Sex  Pclass    Title   Age\n",
       "0  female       1     Miss  30.0\n",
       "1  female       1      Mrs  40.0\n",
       "2  female       1  Officer  49.0\n",
       "3  female       1  Royalty  40.5\n",
       "4  female       2     Miss  24.0"
      ]
     },
     "execution_count": 11,
     "metadata": {},
     "output_type": "execute_result"
    }
   ],
   "source": [
    "grouped_train = train.groupby(['Sex','Pclass','Title'])\n",
    "grouped_median_train = grouped_train.median(numeric_only=True)\n",
    "grouped_median_train = grouped_median_train.reset_index()[['Sex', 'Pclass', 'Title', 'Age']]\n",
    "\n",
    "grouped_median_train.head()"
   ]
  },
  {
   "cell_type": "code",
   "execution_count": 12,
   "id": "e1090e54",
   "metadata": {
    "execution": {
     "iopub.execute_input": "2025-10-08T03:01:08.736290Z",
     "iopub.status.busy": "2025-10-08T03:01:08.735948Z",
     "iopub.status.idle": "2025-10-08T03:01:08.958870Z",
     "shell.execute_reply": "2025-10-08T03:01:08.957760Z"
    },
    "papermill": {
     "duration": 0.237273,
     "end_time": "2025-10-08T03:01:08.960771",
     "exception": false,
     "start_time": "2025-10-08T03:01:08.723498",
     "status": "completed"
    },
    "tags": []
   },
   "outputs": [],
   "source": [
    "def fill_age(row):\n",
    "    condition = (\n",
    "        (grouped_median_train['Sex'] == row['Sex']) & \n",
    "        (grouped_median_train['Title'] == row['Title']) & \n",
    "        (grouped_median_train['Pclass'] == row['Pclass'])\n",
    "    ) \n",
    "    return grouped_median_train[condition]['Age'].values[0]\n",
    "\n",
    "\n",
    "def process_age(df):\n",
    "    df['Age'] = df.apply(lambda row: fill_age(row) if np.isnan(row['Age']) else row['Age'], axis=1)\n",
    "    return df\n",
    "\n",
    "train = process_age(train)\n",
    "test = process_age(test)"
   ]
  },
  {
   "cell_type": "markdown",
   "id": "28acb8a5",
   "metadata": {
    "papermill": {
     "duration": 0.010746,
     "end_time": "2025-10-08T03:01:08.982831",
     "exception": false,
     "start_time": "2025-10-08T03:01:08.972085",
     "status": "completed"
    },
    "tags": []
   },
   "source": [
    "## Embarked"
   ]
  },
  {
   "cell_type": "code",
   "execution_count": 13,
   "id": "347dec5c",
   "metadata": {
    "execution": {
     "iopub.execute_input": "2025-10-08T03:01:09.006821Z",
     "iopub.status.busy": "2025-10-08T03:01:09.006471Z",
     "iopub.status.idle": "2025-10-08T03:01:09.013797Z",
     "shell.execute_reply": "2025-10-08T03:01:09.012282Z"
    },
    "papermill": {
     "duration": 0.021862,
     "end_time": "2025-10-08T03:01:09.015647",
     "exception": false,
     "start_time": "2025-10-08T03:01:08.993785",
     "status": "completed"
    },
    "tags": []
   },
   "outputs": [],
   "source": [
    "train['Embarked'] = train['Embarked'].fillna('S')"
   ]
  },
  {
   "cell_type": "code",
   "execution_count": 14,
   "id": "781bfd15",
   "metadata": {
    "execution": {
     "iopub.execute_input": "2025-10-08T03:01:09.039685Z",
     "iopub.status.busy": "2025-10-08T03:01:09.039347Z",
     "iopub.status.idle": "2025-10-08T03:01:09.049987Z",
     "shell.execute_reply": "2025-10-08T03:01:09.048548Z"
    },
    "papermill": {
     "duration": 0.024861,
     "end_time": "2025-10-08T03:01:09.051955",
     "exception": false,
     "start_time": "2025-10-08T03:01:09.027094",
     "status": "completed"
    },
    "tags": []
   },
   "outputs": [
    {
     "data": {
      "text/plain": [
       "PassengerId      0\n",
       "Survived         0\n",
       "Pclass           0\n",
       "Name             0\n",
       "Sex              0\n",
       "Age              0\n",
       "SibSp            0\n",
       "Parch            0\n",
       "Ticket           0\n",
       "Fare             0\n",
       "Cabin          687\n",
       "Embarked         0\n",
       "Title            0\n",
       "dtype: int64"
      ]
     },
     "execution_count": 14,
     "metadata": {},
     "output_type": "execute_result"
    }
   ],
   "source": [
    "train.isna().sum()"
   ]
  },
  {
   "cell_type": "code",
   "execution_count": 15,
   "id": "8c600655",
   "metadata": {
    "execution": {
     "iopub.execute_input": "2025-10-08T03:01:09.076389Z",
     "iopub.status.busy": "2025-10-08T03:01:09.075996Z",
     "iopub.status.idle": "2025-10-08T03:01:09.082834Z",
     "shell.execute_reply": "2025-10-08T03:01:09.081755Z"
    },
    "papermill": {
     "duration": 0.021188,
     "end_time": "2025-10-08T03:01:09.084714",
     "exception": false,
     "start_time": "2025-10-08T03:01:09.063526",
     "status": "completed"
    },
    "tags": []
   },
   "outputs": [],
   "source": [
    "test['Embarked'] = test['Embarked'].fillna(test['Embarked'].mode())"
   ]
  },
  {
   "cell_type": "markdown",
   "id": "2096f504",
   "metadata": {
    "papermill": {
     "duration": 0.011348,
     "end_time": "2025-10-08T03:01:09.107409",
     "exception": false,
     "start_time": "2025-10-08T03:01:09.096061",
     "status": "completed"
    },
    "tags": []
   },
   "source": [
    "## Fare"
   ]
  },
  {
   "cell_type": "code",
   "execution_count": 16,
   "id": "d1eac75e",
   "metadata": {
    "execution": {
     "iopub.execute_input": "2025-10-08T03:01:09.131830Z",
     "iopub.status.busy": "2025-10-08T03:01:09.131453Z",
     "iopub.status.idle": "2025-10-08T03:01:09.149720Z",
     "shell.execute_reply": "2025-10-08T03:01:09.148648Z"
    },
    "papermill": {
     "duration": 0.032652,
     "end_time": "2025-10-08T03:01:09.151521",
     "exception": false,
     "start_time": "2025-10-08T03:01:09.118869",
     "status": "completed"
    },
    "tags": []
   },
   "outputs": [
    {
     "name": "stderr",
     "output_type": "stream",
     "text": [
      "/usr/local/lib/python3.11/dist-packages/pandas/io/formats/format.py:1458: RuntimeWarning: invalid value encountered in greater\n",
      "  has_large_values = (abs_vals > 1e6).any()\n",
      "/usr/local/lib/python3.11/dist-packages/pandas/io/formats/format.py:1459: RuntimeWarning: invalid value encountered in less\n",
      "  has_small_values = ((abs_vals < 10 ** (-self.digits)) & (abs_vals > 0)).any()\n",
      "/usr/local/lib/python3.11/dist-packages/pandas/io/formats/format.py:1459: RuntimeWarning: invalid value encountered in greater\n",
      "  has_small_values = ((abs_vals < 10 ** (-self.digits)) & (abs_vals > 0)).any()\n"
     ]
    },
    {
     "data": {
      "text/html": [
       "<div>\n",
       "<style scoped>\n",
       "    .dataframe tbody tr th:only-of-type {\n",
       "        vertical-align: middle;\n",
       "    }\n",
       "\n",
       "    .dataframe tbody tr th {\n",
       "        vertical-align: top;\n",
       "    }\n",
       "\n",
       "    .dataframe thead th {\n",
       "        text-align: right;\n",
       "    }\n",
       "</style>\n",
       "<table border=\"1\" class=\"dataframe\">\n",
       "  <thead>\n",
       "    <tr style=\"text-align: right;\">\n",
       "      <th></th>\n",
       "      <th>PassengerId</th>\n",
       "      <th>Pclass</th>\n",
       "      <th>Name</th>\n",
       "      <th>Sex</th>\n",
       "      <th>Age</th>\n",
       "      <th>SibSp</th>\n",
       "      <th>Parch</th>\n",
       "      <th>Ticket</th>\n",
       "      <th>Fare</th>\n",
       "      <th>Cabin</th>\n",
       "      <th>Embarked</th>\n",
       "      <th>Title</th>\n",
       "    </tr>\n",
       "  </thead>\n",
       "  <tbody>\n",
       "    <tr>\n",
       "      <th>152</th>\n",
       "      <td>1044</td>\n",
       "      <td>3</td>\n",
       "      <td>Storey, Mr. Thomas</td>\n",
       "      <td>male</td>\n",
       "      <td>60.5</td>\n",
       "      <td>0</td>\n",
       "      <td>0</td>\n",
       "      <td>3701</td>\n",
       "      <td>NaN</td>\n",
       "      <td>NaN</td>\n",
       "      <td>S</td>\n",
       "      <td>Mr</td>\n",
       "    </tr>\n",
       "  </tbody>\n",
       "</table>\n",
       "</div>"
      ],
      "text/plain": [
       "     PassengerId  Pclass                Name   Sex   Age  SibSp  Parch Ticket  \\\n",
       "152         1044       3  Storey, Mr. Thomas  male  60.5      0      0   3701   \n",
       "\n",
       "     Fare Cabin Embarked Title  \n",
       "152   NaN   NaN        S    Mr  "
      ]
     },
     "execution_count": 16,
     "metadata": {},
     "output_type": "execute_result"
    }
   ],
   "source": [
    "test[test['Fare'].isnull()]"
   ]
  },
  {
   "cell_type": "code",
   "execution_count": 17,
   "id": "17e0ebc3",
   "metadata": {
    "execution": {
     "iopub.execute_input": "2025-10-08T03:01:09.176881Z",
     "iopub.status.busy": "2025-10-08T03:01:09.176456Z",
     "iopub.status.idle": "2025-10-08T03:01:09.183591Z",
     "shell.execute_reply": "2025-10-08T03:01:09.182144Z"
    },
    "papermill": {
     "duration": 0.022248,
     "end_time": "2025-10-08T03:01:09.185349",
     "exception": false,
     "start_time": "2025-10-08T03:01:09.163101",
     "status": "completed"
    },
    "tags": []
   },
   "outputs": [],
   "source": [
    "test['Fare'] = test['Fare'].fillna(test[test['Pclass'] == 3]['Fare'].median())"
   ]
  },
  {
   "cell_type": "markdown",
   "id": "d217980c",
   "metadata": {
    "papermill": {
     "duration": 0.011057,
     "end_time": "2025-10-08T03:01:09.208848",
     "exception": false,
     "start_time": "2025-10-08T03:01:09.197791",
     "status": "completed"
    },
    "tags": []
   },
   "source": [
    "## Cabin"
   ]
  },
  {
   "cell_type": "code",
   "execution_count": 18,
   "id": "e089cca2",
   "metadata": {
    "execution": {
     "iopub.execute_input": "2025-10-08T03:01:09.233568Z",
     "iopub.status.busy": "2025-10-08T03:01:09.233192Z",
     "iopub.status.idle": "2025-10-08T03:01:09.240761Z",
     "shell.execute_reply": "2025-10-08T03:01:09.239718Z"
    },
    "papermill": {
     "duration": 0.022145,
     "end_time": "2025-10-08T03:01:09.242812",
     "exception": false,
     "start_time": "2025-10-08T03:01:09.220667",
     "status": "completed"
    },
    "tags": []
   },
   "outputs": [],
   "source": [
    "train = train.drop('Cabin', axis = 1)\n",
    "test = test.drop('Cabin', axis = 1)"
   ]
  },
  {
   "cell_type": "code",
   "execution_count": 19,
   "id": "6fdc56d3",
   "metadata": {
    "execution": {
     "iopub.execute_input": "2025-10-08T03:01:09.268812Z",
     "iopub.status.busy": "2025-10-08T03:01:09.267849Z",
     "iopub.status.idle": "2025-10-08T03:01:09.277075Z",
     "shell.execute_reply": "2025-10-08T03:01:09.275988Z"
    },
    "papermill": {
     "duration": 0.024422,
     "end_time": "2025-10-08T03:01:09.278830",
     "exception": false,
     "start_time": "2025-10-08T03:01:09.254408",
     "status": "completed"
    },
    "tags": []
   },
   "outputs": [
    {
     "data": {
      "text/plain": [
       "PassengerId    0\n",
       "Survived       0\n",
       "Pclass         0\n",
       "Name           0\n",
       "Sex            0\n",
       "Age            0\n",
       "SibSp          0\n",
       "Parch          0\n",
       "Ticket         0\n",
       "Fare           0\n",
       "Embarked       0\n",
       "Title          0\n",
       "dtype: int64"
      ]
     },
     "execution_count": 19,
     "metadata": {},
     "output_type": "execute_result"
    }
   ],
   "source": [
    "train.isna().sum()"
   ]
  },
  {
   "cell_type": "code",
   "execution_count": 20,
   "id": "aed9ea53",
   "metadata": {
    "execution": {
     "iopub.execute_input": "2025-10-08T03:01:09.303693Z",
     "iopub.status.busy": "2025-10-08T03:01:09.303376Z",
     "iopub.status.idle": "2025-10-08T03:01:09.313760Z",
     "shell.execute_reply": "2025-10-08T03:01:09.312711Z"
    },
    "papermill": {
     "duration": 0.024684,
     "end_time": "2025-10-08T03:01:09.315272",
     "exception": false,
     "start_time": "2025-10-08T03:01:09.290588",
     "status": "completed"
    },
    "tags": []
   },
   "outputs": [
    {
     "data": {
      "text/plain": [
       "PassengerId    0\n",
       "Pclass         0\n",
       "Name           0\n",
       "Sex            0\n",
       "Age            0\n",
       "SibSp          0\n",
       "Parch          0\n",
       "Ticket         0\n",
       "Fare           0\n",
       "Embarked       0\n",
       "Title          0\n",
       "dtype: int64"
      ]
     },
     "execution_count": 20,
     "metadata": {},
     "output_type": "execute_result"
    }
   ],
   "source": [
    "test.isna().sum()"
   ]
  },
  {
   "cell_type": "markdown",
   "id": "568d8748",
   "metadata": {
    "papermill": {
     "duration": 0.011231,
     "end_time": "2025-10-08T03:01:09.338380",
     "exception": false,
     "start_time": "2025-10-08T03:01:09.327149",
     "status": "completed"
    },
    "tags": []
   },
   "source": [
    "# Create Feature"
   ]
  },
  {
   "cell_type": "markdown",
   "id": "d3b13ae0",
   "metadata": {
    "papermill": {
     "duration": 0.011299,
     "end_time": "2025-10-08T03:01:09.361487",
     "exception": false,
     "start_time": "2025-10-08T03:01:09.350188",
     "status": "completed"
    },
    "tags": []
   },
   "source": [
    "## From Cabin"
   ]
  },
  {
   "cell_type": "markdown",
   "id": "806b46c9",
   "metadata": {
    "papermill": {
     "duration": 0.011396,
     "end_time": "2025-10-08T03:01:09.385161",
     "exception": false,
     "start_time": "2025-10-08T03:01:09.373765",
     "status": "completed"
    },
    "tags": []
   },
   "source": [
    "## From Name"
   ]
  },
  {
   "cell_type": "code",
   "execution_count": 21,
   "id": "49c4f3ac",
   "metadata": {
    "execution": {
     "iopub.execute_input": "2025-10-08T03:01:09.409762Z",
     "iopub.status.busy": "2025-10-08T03:01:09.409445Z",
     "iopub.status.idle": "2025-10-08T03:01:09.417476Z",
     "shell.execute_reply": "2025-10-08T03:01:09.416181Z"
    },
    "papermill": {
     "duration": 0.022724,
     "end_time": "2025-10-08T03:01:09.419409",
     "exception": false,
     "start_time": "2025-10-08T03:01:09.396685",
     "status": "completed"
    },
    "tags": []
   },
   "outputs": [],
   "source": [
    "train['Surname'] = train['Name'].apply(lambda x: x.split(',')[0])\n",
    "test['Surname'] = test['Name'].apply(lambda x: x.split(',')[0])"
   ]
  },
  {
   "cell_type": "markdown",
   "id": "1ceddb03",
   "metadata": {
    "papermill": {
     "duration": 0.011982,
     "end_time": "2025-10-08T03:01:09.442914",
     "exception": false,
     "start_time": "2025-10-08T03:01:09.430932",
     "status": "completed"
    },
    "tags": []
   },
   "source": [
    "## From Sib.."
   ]
  },
  {
   "cell_type": "code",
   "execution_count": 22,
   "id": "957d3566",
   "metadata": {
    "execution": {
     "iopub.execute_input": "2025-10-08T03:01:09.467676Z",
     "iopub.status.busy": "2025-10-08T03:01:09.467292Z",
     "iopub.status.idle": "2025-10-08T03:01:09.478909Z",
     "shell.execute_reply": "2025-10-08T03:01:09.477885Z"
    },
    "papermill": {
     "duration": 0.025842,
     "end_time": "2025-10-08T03:01:09.480529",
     "exception": false,
     "start_time": "2025-10-08T03:01:09.454687",
     "status": "completed"
    },
    "tags": []
   },
   "outputs": [],
   "source": [
    "train['Family_size'] = train['SibSp'] + train['Parch'] + 1\n",
    "test['Family_size'] = test['SibSp'] + train['Parch'] + 1"
   ]
  },
  {
   "cell_type": "code",
   "execution_count": 23,
   "id": "0e0af282",
   "metadata": {
    "execution": {
     "iopub.execute_input": "2025-10-08T03:01:09.505109Z",
     "iopub.status.busy": "2025-10-08T03:01:09.504813Z",
     "iopub.status.idle": "2025-10-08T03:01:09.512282Z",
     "shell.execute_reply": "2025-10-08T03:01:09.511126Z"
    },
    "papermill": {
     "duration": 0.02179,
     "end_time": "2025-10-08T03:01:09.513965",
     "exception": false,
     "start_time": "2025-10-08T03:01:09.492175",
     "status": "completed"
    },
    "tags": []
   },
   "outputs": [],
   "source": [
    "train['is_large_family'] = train['Family_size'] > 4\n",
    "test['is_large_family'] = test['Family_size'] > 4"
   ]
  },
  {
   "cell_type": "markdown",
   "id": "cf75c293",
   "metadata": {
    "papermill": {
     "duration": 0.011446,
     "end_time": "2025-10-08T03:01:09.537299",
     "exception": false,
     "start_time": "2025-10-08T03:01:09.525853",
     "status": "completed"
    },
    "tags": []
   },
   "source": [
    "## From ticket"
   ]
  },
  {
   "cell_type": "code",
   "execution_count": 24,
   "id": "509cf961",
   "metadata": {
    "execution": {
     "iopub.execute_input": "2025-10-08T03:01:09.562139Z",
     "iopub.status.busy": "2025-10-08T03:01:09.561774Z",
     "iopub.status.idle": "2025-10-08T03:01:09.577077Z",
     "shell.execute_reply": "2025-10-08T03:01:09.576121Z"
    },
    "papermill": {
     "duration": 0.03008,
     "end_time": "2025-10-08T03:01:09.579023",
     "exception": false,
     "start_time": "2025-10-08T03:01:09.548943",
     "status": "completed"
    },
    "tags": []
   },
   "outputs": [],
   "source": [
    "train['ticket_freq'] = train['Ticket'].map(train['Ticket'].value_counts())\n",
    "train['fare_freq'] = train['Fare'].map(train['Fare'].value_counts())\n",
    "test['ticket_freq'] = test['Ticket'].map(test['Ticket'].value_counts())\n",
    "test['fare_freq'] = test['Fare'].map(test['Fare'].value_counts())"
   ]
  },
  {
   "cell_type": "markdown",
   "id": "c847ad91",
   "metadata": {
    "papermill": {
     "duration": 0.011508,
     "end_time": "2025-10-08T03:01:09.602205",
     "exception": false,
     "start_time": "2025-10-08T03:01:09.590697",
     "status": "completed"
    },
    "tags": []
   },
   "source": [
    "## From Fare"
   ]
  },
  {
   "cell_type": "code",
   "execution_count": 25,
   "id": "c3f2fca7",
   "metadata": {
    "execution": {
     "iopub.execute_input": "2025-10-08T03:01:09.627072Z",
     "iopub.status.busy": "2025-10-08T03:01:09.626709Z",
     "iopub.status.idle": "2025-10-08T03:01:09.633569Z",
     "shell.execute_reply": "2025-10-08T03:01:09.632496Z"
    },
    "papermill": {
     "duration": 0.021076,
     "end_time": "2025-10-08T03:01:09.635210",
     "exception": false,
     "start_time": "2025-10-08T03:01:09.614134",
     "status": "completed"
    },
    "tags": []
   },
   "outputs": [],
   "source": [
    "train['has_fare'] = train['Fare'] != 0\n",
    "test['has_fare'] = test['Fare'] != 0"
   ]
  },
  {
   "cell_type": "code",
   "execution_count": 26,
   "id": "badfe4cf",
   "metadata": {
    "execution": {
     "iopub.execute_input": "2025-10-08T03:01:09.659817Z",
     "iopub.status.busy": "2025-10-08T03:01:09.659428Z",
     "iopub.status.idle": "2025-10-08T03:01:09.666519Z",
     "shell.execute_reply": "2025-10-08T03:01:09.665325Z"
    },
    "papermill": {
     "duration": 0.021374,
     "end_time": "2025-10-08T03:01:09.668208",
     "exception": false,
     "start_time": "2025-10-08T03:01:09.646834",
     "status": "completed"
    },
    "tags": []
   },
   "outputs": [],
   "source": [
    "train['fare_per_ticket'] = train['Fare']/train['ticket_freq']\n",
    "test['fare_per_ticket'] = test['Fare']/test['ticket_freq']"
   ]
  },
  {
   "cell_type": "code",
   "execution_count": 27,
   "id": "36f1a7a9",
   "metadata": {
    "execution": {
     "iopub.execute_input": "2025-10-08T03:01:09.693331Z",
     "iopub.status.busy": "2025-10-08T03:01:09.692951Z",
     "iopub.status.idle": "2025-10-08T03:01:09.708528Z",
     "shell.execute_reply": "2025-10-08T03:01:09.707506Z"
    },
    "papermill": {
     "duration": 0.030837,
     "end_time": "2025-10-08T03:01:09.710714",
     "exception": false,
     "start_time": "2025-10-08T03:01:09.679877",
     "status": "completed"
    },
    "tags": []
   },
   "outputs": [],
   "source": [
    "train['fare_band'] = pd.qcut(train['fare_per_ticket'], 5, labels=[0, 1, 2, 3, 4])\n",
    "test['fare_band'] = pd.qcut(test['fare_per_ticket'], 5, labels=[0, 1, 2, 3, 4])"
   ]
  },
  {
   "cell_type": "code",
   "execution_count": 28,
   "id": "95074e3c",
   "metadata": {
    "execution": {
     "iopub.execute_input": "2025-10-08T03:01:09.735588Z",
     "iopub.status.busy": "2025-10-08T03:01:09.735057Z",
     "iopub.status.idle": "2025-10-08T03:01:09.745913Z",
     "shell.execute_reply": "2025-10-08T03:01:09.744795Z"
    },
    "papermill": {
     "duration": 0.025283,
     "end_time": "2025-10-08T03:01:09.747782",
     "exception": false,
     "start_time": "2025-10-08T03:01:09.722499",
     "status": "completed"
    },
    "tags": []
   },
   "outputs": [],
   "source": [
    "def find_age_band(age):\n",
    "    if age < 14:\n",
    "        return 0\n",
    "    elif age <= 30:\n",
    "        return 2\n",
    "    elif age <= 64:\n",
    "        return 1\n",
    "    else: \n",
    "        return 3\n",
    "\n",
    "train['age_band'] = train['Age'].apply(find_age_band)\n",
    "train['is_minor'] = train['age_band'] == 0\n",
    "test['age_band'] = test['Age'].apply(find_age_band)\n",
    "test['is_minor'] = test['age_band'] == 0"
   ]
  },
  {
   "cell_type": "markdown",
   "id": "9dd1866b",
   "metadata": {
    "papermill": {
     "duration": 0.01136,
     "end_time": "2025-10-08T03:01:09.770760",
     "exception": false,
     "start_time": "2025-10-08T03:01:09.759400",
     "status": "completed"
    },
    "tags": []
   },
   "source": [
    "## From Embarked"
   ]
  },
  {
   "cell_type": "code",
   "execution_count": 29,
   "id": "67cde0cc",
   "metadata": {
    "execution": {
     "iopub.execute_input": "2025-10-08T03:01:09.796177Z",
     "iopub.status.busy": "2025-10-08T03:01:09.795832Z",
     "iopub.status.idle": "2025-10-08T03:01:09.803838Z",
     "shell.execute_reply": "2025-10-08T03:01:09.802672Z"
    },
    "papermill": {
     "duration": 0.023226,
     "end_time": "2025-10-08T03:01:09.805960",
     "exception": false,
     "start_time": "2025-10-08T03:01:09.782734",
     "status": "completed"
    },
    "tags": []
   },
   "outputs": [],
   "source": [
    "train['embarked_C'] = train['Embarked'].apply(lambda x: 1 if x == 'C' else 0)\n",
    "test['embarked_C'] = test['Embarked'].apply(lambda x: 1 if x == 'C' else 0)"
   ]
  },
  {
   "cell_type": "markdown",
   "id": "08e1d914",
   "metadata": {
    "papermill": {
     "duration": 0.011339,
     "end_time": "2025-10-08T03:01:09.829548",
     "exception": false,
     "start_time": "2025-10-08T03:01:09.818209",
     "status": "completed"
    },
    "tags": []
   },
   "source": [
    "# Advance"
   ]
  },
  {
   "cell_type": "code",
   "execution_count": 30,
   "id": "65fcac50",
   "metadata": {
    "execution": {
     "iopub.execute_input": "2025-10-08T03:01:09.854154Z",
     "iopub.status.busy": "2025-10-08T03:01:09.853813Z",
     "iopub.status.idle": "2025-10-08T03:01:09.865330Z",
     "shell.execute_reply": "2025-10-08T03:01:09.864300Z"
    },
    "papermill": {
     "duration": 0.026044,
     "end_time": "2025-10-08T03:01:09.867334",
     "exception": false,
     "start_time": "2025-10-08T03:01:09.841290",
     "status": "completed"
    },
    "tags": []
   },
   "outputs": [],
   "source": [
    "train['Ticket_formatted'] = train['Embarked'] + '-' + train['Ticket'].astype(str).str[:-2] + 'XX-' + train['Fare'].astype(str)\n",
    "test['Ticket_formatted'] = test['Embarked'] + '-' + test['Ticket'].astype(str).str[:-2] + 'XX-' + test['Fare'].astype(str)"
   ]
  },
  {
   "cell_type": "code",
   "execution_count": 31,
   "id": "1484194e",
   "metadata": {
    "execution": {
     "iopub.execute_input": "2025-10-08T03:01:09.892832Z",
     "iopub.status.busy": "2025-10-08T03:01:09.891766Z",
     "iopub.status.idle": "2025-10-08T03:01:09.901883Z",
     "shell.execute_reply": "2025-10-08T03:01:09.900790Z"
    },
    "papermill": {
     "duration": 0.02475,
     "end_time": "2025-10-08T03:01:09.903706",
     "exception": false,
     "start_time": "2025-10-08T03:01:09.878956",
     "status": "completed"
    },
    "tags": []
   },
   "outputs": [],
   "source": [
    "train['group_id'] = train['Surname'] + '-' + train['Pclass'].astype(str) + '-' + train['Ticket_formatted']\n",
    "test['group_id'] = test['Surname'] + '-' + test['Pclass'].astype(str) + '-' + test['Ticket_formatted']"
   ]
  },
  {
   "cell_type": "code",
   "execution_count": 32,
   "id": "66e83b40",
   "metadata": {
    "execution": {
     "iopub.execute_input": "2025-10-08T03:01:09.928635Z",
     "iopub.status.busy": "2025-10-08T03:01:09.928174Z",
     "iopub.status.idle": "2025-10-08T03:01:09.936785Z",
     "shell.execute_reply": "2025-10-08T03:01:09.935647Z"
    },
    "papermill": {
     "duration": 0.023224,
     "end_time": "2025-10-08T03:01:09.938702",
     "exception": false,
     "start_time": "2025-10-08T03:01:09.915478",
     "status": "completed"
    },
    "tags": []
   },
   "outputs": [],
   "source": [
    "train.loc[train['Title'] == 'Mr', 'group_id'] = 'no_group'\n",
    "test.loc[test['Title'] == 'Mr', 'group_id'] = 'no_group'"
   ]
  },
  {
   "cell_type": "code",
   "execution_count": 33,
   "id": "c826d2cf",
   "metadata": {
    "execution": {
     "iopub.execute_input": "2025-10-08T03:01:09.964979Z",
     "iopub.status.busy": "2025-10-08T03:01:09.964201Z",
     "iopub.status.idle": "2025-10-08T03:01:09.974581Z",
     "shell.execute_reply": "2025-10-08T03:01:09.973338Z"
    },
    "papermill": {
     "duration": 0.025643,
     "end_time": "2025-10-08T03:01:09.976365",
     "exception": false,
     "start_time": "2025-10-08T03:01:09.950722",
     "status": "completed"
    },
    "tags": []
   },
   "outputs": [],
   "source": [
    "group_fred = train['group_id'].value_counts()\n",
    "train['group_fred'] = train['group_id'].map(group_fred)\n",
    "group_fred = test['group_id'].value_counts()\n",
    "test['group_fred'] = test['group_id'].map(group_fred)"
   ]
  },
  {
   "cell_type": "code",
   "execution_count": 34,
   "id": "6c0314b3",
   "metadata": {
    "execution": {
     "iopub.execute_input": "2025-10-08T03:01:10.001895Z",
     "iopub.status.busy": "2025-10-08T03:01:10.001035Z",
     "iopub.status.idle": "2025-10-08T03:01:10.008040Z",
     "shell.execute_reply": "2025-10-08T03:01:10.006963Z"
    },
    "papermill": {
     "duration": 0.021659,
     "end_time": "2025-10-08T03:01:10.009767",
     "exception": false,
     "start_time": "2025-10-08T03:01:09.988108",
     "status": "completed"
    },
    "tags": []
   },
   "outputs": [],
   "source": [
    "train.loc[train['group_fred'] <= 1, 'group_id'] = 'no_group'\n",
    "test.loc[test['group_fred'] <= 1, 'group_id'] = 'no_group'"
   ]
  },
  {
   "cell_type": "code",
   "execution_count": 35,
   "id": "e178d3e3",
   "metadata": {
    "execution": {
     "iopub.execute_input": "2025-10-08T03:01:10.034450Z",
     "iopub.status.busy": "2025-10-08T03:01:10.034073Z",
     "iopub.status.idle": "2025-10-08T03:01:10.234669Z",
     "shell.execute_reply": "2025-10-08T03:01:10.233489Z"
    },
    "papermill": {
     "duration": 0.215105,
     "end_time": "2025-10-08T03:01:10.236548",
     "exception": false,
     "start_time": "2025-10-08T03:01:10.021443",
     "status": "completed"
    },
    "tags": []
   },
   "outputs": [],
   "source": [
    "group_df = train[train['group_id'] != 'no_group']\n",
    "for i, row in train.iterrows():\n",
    "    if row['group_id'] == 'no_group' and row['Title'] != 'Mr':\n",
    "        same_ticket = group_df[group_df['Ticket_formatted'] == row['Ticket_formatted']]\n",
    "        if not same_ticket.empty:\n",
    "            train.at[i, 'group_id'] = same_ticket.iloc[0]['group_id']"
   ]
  },
  {
   "cell_type": "code",
   "execution_count": 36,
   "id": "bb5105c5",
   "metadata": {
    "execution": {
     "iopub.execute_input": "2025-10-08T03:01:10.264013Z",
     "iopub.status.busy": "2025-10-08T03:01:10.263676Z",
     "iopub.status.idle": "2025-10-08T03:01:10.413265Z",
     "shell.execute_reply": "2025-10-08T03:01:10.412114Z"
    },
    "papermill": {
     "duration": 0.167094,
     "end_time": "2025-10-08T03:01:10.415132",
     "exception": false,
     "start_time": "2025-10-08T03:01:10.248038",
     "status": "completed"
    },
    "tags": []
   },
   "outputs": [],
   "source": [
    "group_df = test[test['group_id'] != 'no_group']\n",
    "for i, row in test.iterrows():\n",
    "    if row['group_id'] == 'no_group' and row['Title'] != 'Mr':\n",
    "        same_ticket = group_df[group_df['Ticket_formatted'] == row['Ticket_formatted']]\n",
    "        if not same_ticket.empty:\n",
    "            test.at[i, 'group_id'] = same_ticket.iloc[0]['group_id']"
   ]
  },
  {
   "cell_type": "code",
   "execution_count": 37,
   "id": "f1d90fbe",
   "metadata": {
    "execution": {
     "iopub.execute_input": "2025-10-08T03:01:10.441068Z",
     "iopub.status.busy": "2025-10-08T03:01:10.440698Z",
     "iopub.status.idle": "2025-10-08T03:01:10.449479Z",
     "shell.execute_reply": "2025-10-08T03:01:10.448195Z"
    },
    "papermill": {
     "duration": 0.024075,
     "end_time": "2025-10-08T03:01:10.451478",
     "exception": false,
     "start_time": "2025-10-08T03:01:10.427403",
     "status": "completed"
    },
    "tags": []
   },
   "outputs": [],
   "source": [
    "train['group_fred'] = train['group_id'].map(train['group_id'].value_counts())\n",
    "test['group_fred'] = test['group_id'].map(test['group_id'].value_counts())"
   ]
  },
  {
   "cell_type": "code",
   "execution_count": 38,
   "id": "584db1f1",
   "metadata": {
    "execution": {
     "iopub.execute_input": "2025-10-08T03:01:10.476395Z",
     "iopub.status.busy": "2025-10-08T03:01:10.476002Z",
     "iopub.status.idle": "2025-10-08T03:01:10.486734Z",
     "shell.execute_reply": "2025-10-08T03:01:10.485351Z"
    },
    "papermill": {
     "duration": 0.025337,
     "end_time": "2025-10-08T03:01:10.488487",
     "exception": false,
     "start_time": "2025-10-08T03:01:10.463150",
     "status": "completed"
    },
    "tags": []
   },
   "outputs": [],
   "source": [
    "group_survival = train.groupby('group_id')['Survived'].mean()\n",
    "train['group_survival'] = train['group_id'].map(group_survival)\n",
    "test['group_survival'] = test['group_id'].map(group_survival)"
   ]
  },
  {
   "cell_type": "code",
   "execution_count": 39,
   "id": "6a9df2a0",
   "metadata": {
    "execution": {
     "iopub.execute_input": "2025-10-08T03:01:10.512896Z",
     "iopub.status.busy": "2025-10-08T03:01:10.512610Z",
     "iopub.status.idle": "2025-10-08T03:01:11.879902Z",
     "shell.execute_reply": "2025-10-08T03:01:11.878748Z"
    },
    "papermill": {
     "duration": 1.381641,
     "end_time": "2025-10-08T03:01:11.881736",
     "exception": false,
     "start_time": "2025-10-08T03:01:10.500095",
     "status": "completed"
    },
    "tags": []
   },
   "outputs": [],
   "source": [
    "def get_avg_survival(row):\n",
    "    if row['group_id'] != 'no_group':\n",
    "        return row['group_survival']\n",
    "    subset = train[\n",
    "        (train['group_id'] == 'no_group') &\n",
    "        (train['Pclass'] == row['Pclass']) &\n",
    "        (train['Sex'] == row['Sex'])\n",
    "    ]\n",
    "    return subset['Survived'].mean()\n",
    "\n",
    "train['group_survival'] = train.apply(get_avg_survival, axis=1)\n",
    "test['group_survival'] = test.apply(get_avg_survival, axis=1)"
   ]
  },
  {
   "cell_type": "code",
   "execution_count": 40,
   "id": "d54fb3fe",
   "metadata": {
    "execution": {
     "iopub.execute_input": "2025-10-08T03:01:11.906580Z",
     "iopub.status.busy": "2025-10-08T03:01:11.906195Z",
     "iopub.status.idle": "2025-10-08T03:01:11.952511Z",
     "shell.execute_reply": "2025-10-08T03:01:11.951213Z"
    },
    "papermill": {
     "duration": 0.060964,
     "end_time": "2025-10-08T03:01:11.954512",
     "exception": false,
     "start_time": "2025-10-08T03:01:11.893548",
     "status": "completed"
    },
    "tags": []
   },
   "outputs": [],
   "source": [
    "def fill_missing_survival(row):\n",
    "    if pd.isna(row['group_survival']):\n",
    "        same_freq = train[train['group_fred'] == row['group_fred']]\n",
    "        return same_freq['group_survival'].mean()\n",
    "    return row['group_survival']\n",
    "\n",
    "train['group_survival'] = train.apply(fill_missing_survival, axis=1)\n",
    "test['group_survival'] = test.apply(fill_missing_survival, axis=1)"
   ]
  },
  {
   "cell_type": "markdown",
   "id": "0a84dbd2",
   "metadata": {
    "papermill": {
     "duration": 0.011682,
     "end_time": "2025-10-08T03:01:11.978354",
     "exception": false,
     "start_time": "2025-10-08T03:01:11.966672",
     "status": "completed"
    },
    "tags": []
   },
   "source": [
    "# Data Preparation"
   ]
  },
  {
   "cell_type": "code",
   "execution_count": 41,
   "id": "8ccd4df1",
   "metadata": {
    "execution": {
     "iopub.execute_input": "2025-10-08T03:01:12.003254Z",
     "iopub.status.busy": "2025-10-08T03:01:12.002911Z",
     "iopub.status.idle": "2025-10-08T03:01:12.008210Z",
     "shell.execute_reply": "2025-10-08T03:01:12.007281Z"
    },
    "papermill": {
     "duration": 0.019953,
     "end_time": "2025-10-08T03:01:12.009833",
     "exception": false,
     "start_time": "2025-10-08T03:01:11.989880",
     "status": "completed"
    },
    "tags": []
   },
   "outputs": [],
   "source": [
    "def dummy_encoding(df, feature):\n",
    "    dummies = pd.get_dummies(df[feature], prefix=feature, drop_first=True)\n",
    "    df = pd.concat([df,dummies],axis=1)\n",
    "    df = df.drop(feature, axis=1)\n",
    "    return df"
   ]
  },
  {
   "cell_type": "code",
   "execution_count": 42,
   "id": "eed036cc",
   "metadata": {
    "execution": {
     "iopub.execute_input": "2025-10-08T03:01:12.034761Z",
     "iopub.status.busy": "2025-10-08T03:01:12.034440Z",
     "iopub.status.idle": "2025-10-08T03:01:12.042445Z",
     "shell.execute_reply": "2025-10-08T03:01:12.041313Z"
    },
    "papermill": {
     "duration": 0.022227,
     "end_time": "2025-10-08T03:01:12.044019",
     "exception": false,
     "start_time": "2025-10-08T03:01:12.021792",
     "status": "completed"
    },
    "tags": []
   },
   "outputs": [],
   "source": [
    "def prepare_features(df, features):\n",
    "    \"\"\"Make the feature usable by an ML algorithm\"\"\"\n",
    "    df = df.copy()\n",
    "    \n",
    "    for col in df.columns:\n",
    "        if col not in features['nominal'] + features['ordinal'] \\\n",
    "            + features['boolean'] + features['numeric'] + ['is_train', 'Survived']:\n",
    "            df = df.drop(col, axis=1)\n",
    "    \n",
    "    # Transform useful features\n",
    "    for feature in features['nominal']:\n",
    "        df[feature] = df[feature].astype('category')\n",
    "        df = dummy_encoding(df, feature)\n",
    "    \n",
    "    for feature in features['ordinal'] + features['boolean']:\n",
    "        df[feature] = df[feature].astype('int')\n",
    "    \n",
    "    for feature in features['ordinal'] + features['numeric']:\n",
    "        scaler = StandardScaler()\n",
    "        df[[feature]] = scaler.fit_transform(df[[feature]])\n",
    "        df[feature + '_scaled'] = df[feature]\n",
    "        df = df.drop(feature, axis=1)\n",
    "    \n",
    "    return df"
   ]
  },
  {
   "cell_type": "code",
   "execution_count": 43,
   "id": "a60272f6",
   "metadata": {
    "execution": {
     "iopub.execute_input": "2025-10-08T03:01:12.068930Z",
     "iopub.status.busy": "2025-10-08T03:01:12.068615Z",
     "iopub.status.idle": "2025-10-08T03:01:12.122312Z",
     "shell.execute_reply": "2025-10-08T03:01:12.121313Z"
    },
    "papermill": {
     "duration": 0.068561,
     "end_time": "2025-10-08T03:01:12.124329",
     "exception": false,
     "start_time": "2025-10-08T03:01:12.055768",
     "status": "completed"
    },
    "tags": []
   },
   "outputs": [],
   "source": [
    "features = {\n",
    "    'nominal': ['Sex'], # sex*pclass, 'title'\n",
    "    'ordinal': ['Pclass', 'fare_band'], # 'age_band'\n",
    "    'boolean': ['is_minor'], # 'embarked_C', 'is_large_family', 'has_fare', 'is_minor'\n",
    "    'numeric': ['group_survival'], # ['fare_per_ticket', 'Age']\n",
    "}\n",
    "train_prepared = prepare_features(train, features)\n",
    "test_prepared = prepare_features(test, features)"
   ]
  },
  {
   "cell_type": "markdown",
   "id": "7260956b",
   "metadata": {
    "papermill": {
     "duration": 0.011568,
     "end_time": "2025-10-08T03:01:12.147719",
     "exception": false,
     "start_time": "2025-10-08T03:01:12.136151",
     "status": "completed"
    },
    "tags": []
   },
   "source": [
    "# Modeling"
   ]
  },
  {
   "cell_type": "code",
   "execution_count": 44,
   "id": "aa03f521",
   "metadata": {
    "execution": {
     "iopub.execute_input": "2025-10-08T03:01:12.175889Z",
     "iopub.status.busy": "2025-10-08T03:01:12.175526Z",
     "iopub.status.idle": "2025-10-08T03:01:12.186195Z",
     "shell.execute_reply": "2025-10-08T03:01:12.185094Z"
    },
    "papermill": {
     "duration": 0.025893,
     "end_time": "2025-10-08T03:01:12.188195",
     "exception": false,
     "start_time": "2025-10-08T03:01:12.162302",
     "status": "completed"
    },
    "tags": []
   },
   "outputs": [],
   "source": [
    "X = train_prepared.drop('Survived', axis = 1);\n",
    "y = train_prepared['Survived']\n",
    "X_train, X_test, y_train, y_test = train_test_split(X, y, test_size = 0.2, random_state = 42, stratify = y)"
   ]
  },
  {
   "cell_type": "code",
   "execution_count": null,
   "id": "46675d50",
   "metadata": {
    "execution": {
     "iopub.execute_input": "2025-10-08T03:01:12.212710Z",
     "iopub.status.busy": "2025-10-08T03:01:12.212363Z",
     "iopub.status.idle": "2025-10-08T03:01:14.113898Z",
     "shell.execute_reply": "2025-10-08T03:01:14.112775Z"
    },
    "papermill": {
     "duration": 1.915612,
     "end_time": "2025-10-08T03:01:14.115493",
     "exception": false,
     "start_time": "2025-10-08T03:01:12.199881",
     "status": "completed"
    },
    "tags": []
   },
   "outputs": [
    {
     "name": "stdout",
     "output_type": "stream",
     "text": [
      "Logistic Regression Results: \n",
      "  Accuracy: 0.8324\n",
      "  F1 Score: 0.7692\n",
      "  ROC AUC: 0.8794\n",
      "------------------------------\n",
      "Random Forest Results: \n",
      "  Accuracy: 0.8324\n",
      "  F1 Score: 0.7761\n",
      "  ROC AUC: 0.8877\n",
      "------------------------------\n",
      "XGBoost Results: \n",
      "  Accuracy: 0.8324\n",
      "  F1 Score: 0.7656\n",
      "  ROC AUC: 0.8835\n",
      "------------------------------\n",
      "Gradient Boosting Classifier Results: \n",
      "  Accuracy: 0.8380\n",
      "  F1 Score: 0.7752\n",
      "  ROC AUC: 0.8797\n",
      "------------------------------\n"
     ]
    }
   ],
   "source": [
    "from sklearn.linear_model import LogisticRegression\n",
    "from sklearn.ensemble import RandomForestClassifier\n",
    "from xgboost import XGBClassifier\n",
    "from sklearn.metrics import accuracy_score, f1_score, roc_auc_score\n",
    "from sklearn.ensemble import GradientBoostingClassifier\n",
    "\n",
    "models = {\"Logistic Regression\": LogisticRegression(random_state = 42, max_iter = 1000),\n",
    "         \"Random Forest\" : RandomForestClassifier(random_state = 42, n_jobs = -1, n_estimators = 200),\n",
    "         \"XGBoost\": XGBClassifier(use_label_encoder = False, eval_metric = \"logloss\", random_state = 42, n_jobs = -1),\n",
    "         \"Gradient Boosting Classifier\": GradientBoostingClassifier(n_estimators=100,learning_rate=0.1,max_depth=3,random_state=42)}\n",
    "for name, model in models.items():\n",
    "    model.fit(X_train, y_train)\n",
    "    y_pred = model.predict(X_test)\n",
    "    y_prob = model.predict_proba(X_test)[:, 1]\n",
    "    acc = accuracy_score(y_test, y_pred)\n",
    "    f1 = f1_score(y_test, y_pred)\n",
    "    roc_auc = roc_auc_score(y_test, y_prob)\n",
    "    \n",
    "    print(f\"{name} Results: \")\n",
    "    print(f\"  Accuracy: {acc:.4f}\")\n",
    "    print(f\"  F1 Score: {f1:.4f}\")\n",
    "    print(f\"  ROC AUC: {roc_auc:.4f}\")\n",
    "    print(\"-\" * 30)"
   ]
  },
  {
   "cell_type": "code",
   "execution_count": 46,
   "id": "e47f76ab",
   "metadata": {
    "execution": {
     "iopub.execute_input": "2025-10-08T03:01:14.141960Z",
     "iopub.status.busy": "2025-10-08T03:01:14.140951Z",
     "iopub.status.idle": "2025-10-08T03:01:14.205217Z",
     "shell.execute_reply": "2025-10-08T03:01:14.204081Z"
    },
    "papermill": {
     "duration": 0.079078,
     "end_time": "2025-10-08T03:01:14.207221",
     "exception": false,
     "start_time": "2025-10-08T03:01:14.128143",
     "status": "completed"
    },
    "tags": []
   },
   "outputs": [],
   "source": [
    "best_model = RandomForestClassifier(\n",
    "    random_state=2,\n",
    "    n_estimators=25,\n",
    "    min_samples_split=20,\n",
    "    oob_score=True)\n",
    "best_model.fit(X_train, y_train)\n",
    "y_val_pred = best_model.predict(X_test)"
   ]
  },
  {
   "cell_type": "code",
   "execution_count": 47,
   "id": "74ce0863",
   "metadata": {
    "execution": {
     "iopub.execute_input": "2025-10-08T03:01:14.232414Z",
     "iopub.status.busy": "2025-10-08T03:01:14.231886Z",
     "iopub.status.idle": "2025-10-08T03:01:14.254779Z",
     "shell.execute_reply": "2025-10-08T03:01:14.253562Z"
    },
    "papermill": {
     "duration": 0.038073,
     "end_time": "2025-10-08T03:01:14.256886",
     "exception": false,
     "start_time": "2025-10-08T03:01:14.218813",
     "status": "completed"
    },
    "tags": []
   },
   "outputs": [
    {
     "name": "stdout",
     "output_type": "stream",
     "text": [
      "Submission file 'submission.csv' created.\n"
     ]
    }
   ],
   "source": [
    "test_data_orig = pd.read_csv(\"/kaggle/input/titanic/test.csv\")\n",
    "\n",
    "# X_final = scaler.transform(test)\n",
    "# X_final_ica = ica.transform(X_final)\n",
    "# test_preds = best_model.predict(X_final_ica)\n",
    "test_preds = best_model.predict(test_prepared)\n",
    "\n",
    "submission = pd.DataFrame({\n",
    "    \"PassengerId\" : test_data_orig[\"PassengerId\"],\n",
    "    \"Survived\" : test_preds\n",
    "})\n",
    "\n",
    "submission.to_csv(\"Submission.csv\", index=False)\n",
    "print(\"Submission file 'submission.csv' created.\")"
   ]
  }
 ],
 "metadata": {
  "kaggle": {
   "accelerator": "none",
   "dataSources": [
    {
     "databundleVersionId": 26502,
     "sourceId": 3136,
     "sourceType": "competition"
    }
   ],
   "dockerImageVersionId": 31153,
   "isGpuEnabled": false,
   "isInternetEnabled": true,
   "language": "python",
   "sourceType": "notebook"
  },
  "kernelspec": {
   "display_name": "Python 3",
   "language": "python",
   "name": "python3"
  },
  "language_info": {
   "codemirror_mode": {
    "name": "ipython",
    "version": 3
   },
   "file_extension": ".py",
   "mimetype": "text/x-python",
   "name": "python",
   "nbconvert_exporter": "python",
   "pygments_lexer": "ipython3",
   "version": "3.11.13"
  },
  "papermill": {
   "default_parameters": {},
   "duration": 17.712175,
   "end_time": "2025-10-08T03:01:15.092009",
   "environment_variables": {},
   "exception": null,
   "input_path": "__notebook__.ipynb",
   "output_path": "__notebook__.ipynb",
   "parameters": {},
   "start_time": "2025-10-08T03:00:57.379834",
   "version": "2.6.0"
  }
 },
 "nbformat": 4,
 "nbformat_minor": 5
}
